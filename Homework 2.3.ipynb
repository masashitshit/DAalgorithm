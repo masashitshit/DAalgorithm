{
 "cells": [
  {
   "cell_type": "code",
   "execution_count": 1,
   "metadata": {
    "collapsed": false
   },
   "outputs": [
    {
     "data": {
      "text/plain": [
       "3"
      ]
     },
     "execution_count": 1,
     "metadata": {},
     "output_type": "execute_result"
    }
   ],
   "source": [
    "m = 4\n",
    "n = 3"
   ]
  },
  {
   "cell_type": "code",
   "execution_count": 2,
   "metadata": {
    "collapsed": false
   },
   "outputs": [
    {
     "data": {
      "text/plain": [
       "(Array{Int64,1}[[3,2],[2,1],[2,1,3],[2,1,3]],Array{Int64,1}[[2,4,1],[2,1,4,3],[4,1]])"
      ]
     },
     "execution_count": 2,
     "metadata": {},
     "output_type": "execute_result"
    }
   ],
   "source": [
    "using Matching\n",
    "function mat2vecs{T<:Integer}(prefs::Matrix{T})\n",
    "    return [prefs[1:findfirst(prefs[:, j], 0)-1, j] for j in 1:size(prefs, 2)]\n",
    "end\n",
    "m_prefs, f_prefs = mat2vecs.(random_prefs(m, n, allow_unmatched=false))\n",
    "m_prefs, f_prefs = mat2vecs.(random_prefs(m, n))"
   ]
  },
  {
   "cell_type": "code",
   "execution_count": 3,
   "metadata": {
    "collapsed": false
   },
   "outputs": [
    {
     "data": {
      "text/plain": [
       "3-element Array{Array{Int64,1},1}:\n",
       " [2,4,1]  \n",
       " [2,1,4,3]\n",
       " [4,1]    "
      ]
     },
     "execution_count": 3,
     "metadata": {},
     "output_type": "execute_result"
    }
   ],
   "source": [
    "f_prefs"
   ]
  },
  {
   "cell_type": "code",
   "execution_count": 4,
   "metadata": {
    "collapsed": false
   },
   "outputs": [
    {
     "data": {
      "text/plain": [
       "4-element Array{Array{Int64,1},1}:\n",
       " [3,2]  \n",
       " [2,1]  \n",
       " [2,1,3]\n",
       " [2,1,3]"
      ]
     },
     "execution_count": 4,
     "metadata": {},
     "output_type": "execute_result"
    }
   ],
   "source": [
    "m_prefs"
   ]
  },
  {
   "cell_type": "code",
   "execution_count": 5,
   "metadata": {
    "collapsed": false
   },
   "outputs": [
    {
     "data": {
      "text/plain": [
       "matching (generic function with 1 method)"
      ]
     },
     "execution_count": 5,
     "metadata": {},
     "output_type": "execute_result"
    }
   ],
   "source": [
    "function matching(m_prefs,f_prefs)\n",
    "    \n",
    "    for o in 1:m\n",
    "        push!(m_prefs[o],0)\n",
    "    end\n",
    "\n",
    "    for k in 1:n\n",
    "        push!(f_prefs[k],0)\n",
    "    end\n",
    "    matched_m = zeros(Int64,m)\n",
    "    matched_f = zeros(Int64,n)\n",
    "    accepted_m = zeros(Int64,m)         #男性iの受け入れ先が決まったらaccepted_m[1]=1\n",
    "    \n",
    "    while sum(accepted_m) !== m       #男性が全員受け入れ先が決まるまで\n",
    "        \n",
    "        for i in 1:m\n",
    "            \n",
    "            if m_prefs[i][1] == 0       #男性iの第一志望が独身のとき\n",
    "                \n",
    "                accepted_m[i] = 1       #男性iは受け入れ済みに\n",
    "                \n",
    "            end\n",
    "            \n",
    "            if m_prefs[i][1] !== 0      #男性gに第一志望の女性がいるとき\n",
    "                \n",
    "                if findfirst(f_prefs[m_prefs[i][1]],i) == 0       #男性iが第一志望の女性の眼中にないとき\n",
    "                    \n",
    "                    shift!(m_prefs[i]) #男性iの志望から第一志望を除く\n",
    "                    \n",
    "                end\n",
    "                \n",
    "                if findfirst(f_prefs[m_prefs[i][1]],i) == 0      #男性gが第一志望の女性の選択肢に入っているとき\n",
    "                    \n",
    "                    if matched_f[m_prefs[i][1]] == 0        #第一志望の女性が誰も受け入れていないとき\n",
    "                        \n",
    "                        matched_m[i] = m_prefs[i][1]\n",
    "                        matched_f[m_prefs[i][1]] = i\n",
    "                        accepted_m[i] = 1　　　　　　　　　#男性iは受け入れ済みに\n",
    "                        \n",
    "                    end\n",
    "                    \n",
    "                    if matched_f[m_prefs[i][1]] !== 0        #第一志望の女性が誰かを受け入れているとき\n",
    "                        \n",
    "                        if findfirst(f_prefs[m_prefs[i][1]],i) < findfirst(f_prefs[m_prefs[i][1]],matched_f[m_prefs[i][1]])\n",
    "                                 #男性iが保留されていた男性よりも女性の好ましい選択であるとき\n",
    "                            \n",
    "                                accepted_m[matched_f[m_prefs[i][1]]] = 0      #保留されていた男性を受け入れ済みから除く\n",
    "                                shift!(m_prefs[matched_f[m_prefs[i][1]]]) 　　#保留されていた男性の志望から第一志望を除く\n",
    "                                matched_m[matched_f[m_prefs[i][1]]] =　0 \n",
    "                            \n",
    "                                matched_m[i] = m_prefs[i][1]\n",
    "                                matched_f[m_prefs[i][1]] = i\n",
    "                                accepted_m[i] = 1               #男性iは受け入れ済みに\n",
    "                            \n",
    "                        end\n",
    "                         \n",
    "                        if findfirst(f_prefs[m_prefs[i][1]],i) > findfirst(f_prefs[m_prefs[i][1]],matched_f[m_prefs[i][1]]) \n",
    "                                #保留されていた男性が男性iよりも女性の好ましい選択であるとき\n",
    "                                \n",
    "                                shift!(m_prefs[i])       #男性iの志望から第一志望を除く\n",
    "                                \n",
    "                        end\n",
    "                            \n",
    "                    end\n",
    "                        \n",
    "                end\n",
    "                    \n",
    "             end\n",
    "                \n",
    "        end\n",
    "            \n",
    "    end\n",
    "        \n",
    "    return matched_m,matched_f\n",
    "        \n",
    "end\n",
    "                                \n",
    "                                \n",
    "                                \n",
    "                    \n",
    "                    \n",
    "                        \n",
    "                    \n",
    "                        "
   ]
  },
  {
   "cell_type": "code",
   "execution_count": null,
   "metadata": {
    "collapsed": false
   },
   "outputs": [],
   "source": [
    "matching (m_prefs,f_prefs)"
   ]
  },
  {
   "cell_type": "code",
   "execution_count": null,
   "metadata": {
    "collapsed": false
   },
   "outputs": [],
   "source": [
    "Pkg.test(\"MyMatching\")"
   ]
  },
  {
   "cell_type": "code",
   "execution_count": null,
   "metadata": {
    "collapsed": true
   },
   "outputs": [],
   "source": []
  }
 ],
 "metadata": {
  "kernelspec": {
   "display_name": "Julia 0.5.1",
   "language": "julia",
   "name": "julia-0.5"
  },
  "language_info": {
   "file_extension": ".jl",
   "mimetype": "application/julia",
   "name": "julia",
   "version": "0.5.1"
  }
 },
 "nbformat": 4,
 "nbformat_minor": 2
}
