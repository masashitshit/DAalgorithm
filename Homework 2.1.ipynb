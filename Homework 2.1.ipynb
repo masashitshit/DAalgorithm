{
 "cells": [
  {
   "cell_type": "code",
   "execution_count": 1,
   "metadata": {
    "collapsed": false
   },
   "outputs": [
    {
     "data": {
      "text/plain": [
       "3"
      ]
     },
     "execution_count": 1,
     "metadata": {},
     "output_type": "execute_result"
    }
   ],
   "source": [
    "m = 4\n",
    "n = 3"
   ]
  },
  {
   "cell_type": "code",
   "execution_count": 2,
   "metadata": {
    "collapsed": false
   },
   "outputs": [
    {
     "data": {
      "text/plain": [
       "3-element Array{Int64,1}:\n",
       " 1\n",
       " 2\n",
       " 3"
      ]
     },
     "execution_count": 2,
     "metadata": {},
     "output_type": "execute_result"
    }
   ],
   "source": [
    "M = [i for i in 1:m]\n",
    "F = [j for j in 1:n]"
   ]
  },
  {
   "cell_type": "code",
   "execution_count": 3,
   "metadata": {
    "collapsed": false
   },
   "outputs": [
    {
     "data": {
      "text/plain": [
       "mat2vecs (generic function with 1 method)"
      ]
     },
     "execution_count": 3,
     "metadata": {},
     "output_type": "execute_result"
    }
   ],
   "source": [
    "using Matching\n",
    "function mat2vecs{T<:Integer}(prefs::Matrix{T})\n",
    "    return [prefs[1:findfirst(prefs[:, j], 0)-1, j] for j in 1:size(prefs, 2)]\n",
    "end"
   ]
  },
  {
   "cell_type": "code",
   "execution_count": 4,
   "metadata": {
    "collapsed": false
   },
   "outputs": [
    {
     "data": {
      "text/plain": [
       "(Array{Int64,1}[[1],[1,2],[1,2,3],[3,1]],Array{Int64,1}[[1,3,4,2],[3,4],[1,3,4,2]])"
      ]
     },
     "execution_count": 4,
     "metadata": {},
     "output_type": "execute_result"
    }
   ],
   "source": [
    "m_prefs, f_prefs = mat2vecs.(random_prefs(m, n, allow_unmatched=false))\n",
    "m_prefs, f_prefs = mat2vecs.(random_prefs(m, n))"
   ]
  },
  {
   "cell_type": "code",
   "execution_count": 5,
   "metadata": {
    "collapsed": false
   },
   "outputs": [],
   "source": [
    "for o in 1:m\n",
    "    push!(m_prefs[o],0)\n",
    "end\n",
    "\n",
    "for k in 1:n\n",
    "    push!(f_prefs[k],0)\n",
    "end"
   ]
  },
  {
   "cell_type": "code",
   "execution_count": 6,
   "metadata": {
    "collapsed": false
   },
   "outputs": [
    {
     "data": {
      "text/plain": [
       "4-element Array{Array{Int64,1},1}:\n",
       " [1,0]    \n",
       " [1,2,0]  \n",
       " [1,2,3,0]\n",
       " [3,1,0]  "
      ]
     },
     "execution_count": 6,
     "metadata": {},
     "output_type": "execute_result"
    }
   ],
   "source": [
    "m_prefs"
   ]
  },
  {
   "cell_type": "code",
   "execution_count": 7,
   "metadata": {
    "collapsed": false
   },
   "outputs": [
    {
     "data": {
      "text/plain": [
       "3-element Array{Array{Int64,1},1}:\n",
       " [1,3,4,2,0]\n",
       " [3,4,0]    \n",
       " [1,3,4,2,0]"
      ]
     },
     "execution_count": 7,
     "metadata": {},
     "output_type": "execute_result"
    }
   ],
   "source": [
    "f_prefs"
   ]
  },
  {
   "cell_type": "code",
   "execution_count": 8,
   "metadata": {
    "collapsed": false
   },
   "outputs": [
    {
     "data": {
      "text/plain": [
       "3-element Array{Float64,1}:\n",
       " 0.0\n",
       " 0.0\n",
       " 0.0"
      ]
     },
     "execution_count": 8,
     "metadata": {},
     "output_type": "execute_result"
    }
   ],
   "source": [
    "matched_m = zeros(m) \n",
    "matched_f = zeros(n)"
   ]
  },
  {
   "cell_type": "code",
   "execution_count": 9,
   "metadata": {
    "collapsed": false
   },
   "outputs": [
    {
     "data": {
      "text/plain": [
       "matching (generic function with 1 method)"
      ]
     },
     "execution_count": 9,
     "metadata": {},
     "output_type": "execute_result"
    }
   ],
   "source": [
    "function matching(m_prefs,f_prefs)\n",
    "    \n",
    "    M = [g for g in 1:m]\n",
    "    F = [j for j in 1:n]\n",
    "    matched_m = zeros(Int64,m)  \n",
    "    matched_f = zeros(Int64,n)\n",
    "    accepted_m = zeros(Int64,m)         #男性iの受け入れ先が決まったらaccepted_m[1]=1\n",
    "    Matrix = zeros(Int64,m,n)\n",
    "    \n",
    "    \n",
    "    while sum(accepted_m) !== m       #男性が全員安定した状況になるまで\n",
    "                \n",
    "                for i in 1:m\n",
    "                    \n",
    "                    if m_prefs[i][1] == 0       #男性gの第一志望が独身のとき\n",
    "                        \n",
    "                        accepted_m[i] = 1\n",
    "                        matched_m[i] = 0\n",
    "                \n",
    "                    end\n",
    "                    \n",
    "                    if m_prefs[i][1] !== 0      #男性gに第一志望の女性がいるとき\n",
    "                        \n",
    "                        if findfirst(f_prefs[m_prefs[i][1]],i) == 0       #男性gが第一志望の女性の眼中にないとき\n",
    "                            \n",
    "                            shift!(m_prefs[i]) #男性iの志望から第一志望を除く\n",
    "                            \n",
    "                        end\n",
    "                        \n",
    "                        if findfirst(f_prefs[m_prefs[i][1]],i) !== 0      #男性gが第一志望の女性の選択肢に入っているとき\n",
    "                        \n",
    "                            if sum(Matrix[:,m_prefs[i][1]]) == 0      #第一志望の女性の列に誰もいないとき\n",
    "                            \n",
    "                                matched_m[i] = m_prefs[i][1]\n",
    "                                matched_f[m_prefs[i][1]] = i\n",
    "                                Matrix[i,m_prefs[i][1]] = i\n",
    "                                accepted_m[i] = 1                     \n",
    "                            \n",
    "                            end\n",
    "                        \n",
    "                            if sum(Matrix[:,m_prefs[i][1]]) !== 0     #第一志望の女性の列に誰かいるとき\n",
    "                             \n",
    "                                if findfirst(f_prefs[m_prefs[i][1]],i) < findfirst(f_prefs[m_prefs[i][1]],sum(Matrix[:,m_prefs[i][1]]))\n",
    "                                   #男性iが保留されていた男性よりも女性の好ましい選択であるとき\n",
    "                                    \n",
    "                                    matched_m[i] = m_prefs[i][1]\n",
    "                                    matched_f[m_prefs[i][1]] = i\n",
    "                                    Matrix[i,m_prefs[i][1]] = i\n",
    "                                    Matrix[sum(Matrix[:,m_prefs[i][1]]),m_prefs[i][1]] = 0\n",
    "                                    shift!(m_prefs[sum(Matrix[:,m_prefs[i][1]])]) 　　#保留されていた男性の志望から第一志望を除く\n",
    "                                    accepted_m[i] = 1\n",
    "                                    accepted_m[sum(Matrix[:,m_prefs[i][1]])] = 0\n",
    "                            \n",
    "                                end\n",
    "                                \n",
    "                                if findfirst(f_prefs[m_prefs[i][1]],i) > findfirst(f_prefs[m_prefs[i][1]],sum(Matrix[:,m_prefs[i][1]]))\n",
    "                                    #保留されていた男性が男性gよりも女性の好ましい選択であるとき\n",
    "                                    \n",
    "                                    shift!(m_prefs[i]) #男性iの志望から第一志望を除く\n",
    "                                    \n",
    "                                end\n",
    "                                \n",
    "                            end\n",
    "                            \n",
    "                        end\n",
    "                        \n",
    "                    end\n",
    "                    \n",
    "                end\n",
    "                \n",
    "            end\n",
    "            \n",
    "            return matched_m, matched_f ,Matrix\n",
    "            \n",
    "        end"
   ]
  },
  {
   "cell_type": "code",
   "execution_count": 10,
   "metadata": {
    "collapsed": false
   },
   "outputs": [
    {
     "name": "stderr",
     "output_type": "stream",
     "text": [
      "\u001b[1m\u001b[34mINFO: Testing MyMatching\n",
      "\u001b[0m\u001b[1m\u001b[31m=============================[ ERROR: MyMatching ]==============================\u001b[0m\n",
      "\n",
      "\u001b[1m\u001b[31mfailed process: Process(`'C:\\Users\\Masashi Takahashi\\AppData\\Local\\Julia-0.5.1\\bin\\julia' -Cx86-64 '-JC:\\Users\\Masashi Takahashi\\AppData\\Local\\Julia-0.5.1\\lib\\julia\\sys.dll' --compile=yes --depwarn=yes --check-bounds=yes --code-coverage=none --color=yes --compilecache=yes 'C:\\Users\\Masashi Takahashi\\.julia\\v0.5\\MyMatching\\test\\runtests.jl'`, ProcessExited(1)) [1]\u001b[0m\n",
      "\n",
      "\u001b[1m\u001b[31m================================================================================\u001b[0m\n"
     ]
    },
    {
     "ename": "LoadError",
     "evalue": "MyMatching had test errors",
     "output_type": "error",
     "traceback": [
      "MyMatching had test errors",
      "",
      " in #test#61(::Bool, ::Function, ::Array{AbstractString,1}) at .\\pkg\\entry.jl:749",
      " in (::Base.Pkg.Entry.#kw##test)(::Array{Any,1}, ::Base.Pkg.Entry.#test, ::Array{AbstractString,1}) at .\\<missing>:0",
      " in (::Base.Pkg.Dir.##2#3{Array{Any,1},Base.Pkg.Entry.#test,Tuple{Array{AbstractString,1}}})() at .\\pkg\\dir.jl:31",
      " in cd(::Base.Pkg.Dir.##2#3{Array{Any,1},Base.Pkg.Entry.#test,Tuple{Array{AbstractString,1}}}, ::String) at .\\file.jl:48",
      " in #cd#1(::Array{Any,1}, ::Function, ::Function, ::Array{AbstractString,1}, ::Vararg{Array{AbstractString,1},N}) at .\\pkg\\dir.jl:31",
      " in (::Base.Pkg.Dir.#kw##cd)(::Array{Any,1}, ::Base.Pkg.Dir.#cd, ::Function, ::Array{AbstractString,1}, ::Vararg{Array{AbstractString,1},N}) at .\\<missing>:0",
      " in #test#3(::Bool, ::Function, ::String, ::Vararg{String,N}) at .\\pkg\\pkg.jl:258",
      " in test(::String, ::Vararg{String,N}) at .\\pkg\\pkg.jl:258"
     ]
    }
   ],
   "source": [
    "Pkg.test(\"MyMatching\")"
   ]
  },
  {
   "cell_type": "code",
   "execution_count": 11,
   "metadata": {
    "collapsed": false
   },
   "outputs": [
    {
     "ename": "LoadError",
     "evalue": "BoundsError: attempt to access 3-element Array{Array{Int64,1},1} at index [0]",
     "output_type": "error",
     "traceback": [
      "BoundsError: attempt to access 3-element Array{Array{Int64,1},1} at index [0]",
      "",
      " in getindex(::Array{Array{Int64,1},1}, ::Int64) at .\\array.jl:386",
      " in matching(::Array{Array{Int64,1},1}, ::Array{Array{Int64,1},1}) at .\\In[9]:30"
     ]
    }
   ],
   "source": [
    "matching(m_prefs,f_prefs)"
   ]
  }
 ],
 "metadata": {
  "kernelspec": {
   "display_name": "Julia 0.5.1",
   "language": "julia",
   "name": "julia-0.5"
  },
  "language_info": {
   "file_extension": ".jl",
   "mimetype": "application/julia",
   "name": "julia",
   "version": "0.5.1"
  }
 },
 "nbformat": 4,
 "nbformat_minor": 2
}
