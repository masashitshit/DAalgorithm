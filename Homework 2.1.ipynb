{
 "cells": [
  {
   "cell_type": "code",
   "execution_count": 1,
   "metadata": {
    "collapsed": false
   },
   "outputs": [
    {
     "data": {
      "text/plain": [
       "3"
      ]
     },
     "execution_count": 1,
     "metadata": {},
     "output_type": "execute_result"
    }
   ],
   "source": [
    "m = 4\n",
    "n = 3"
   ]
  },
  {
   "cell_type": "code",
   "execution_count": 2,
   "metadata": {
    "collapsed": false
   },
   "outputs": [
    {
     "data": {
      "text/plain": [
       "3-element Array{Int64,1}:\n",
       " 1\n",
       " 2\n",
       " 3"
      ]
     },
     "execution_count": 2,
     "metadata": {},
     "output_type": "execute_result"
    }
   ],
   "source": [
    "M = [i for i in 1:m]\n",
    "F = [j for j in 1:n]"
   ]
  },
  {
   "cell_type": "code",
   "execution_count": 3,
   "metadata": {
    "collapsed": false
   },
   "outputs": [
    {
     "data": {
      "text/plain": [
       "mat2vecs (generic function with 1 method)"
      ]
     },
     "execution_count": 3,
     "metadata": {},
     "output_type": "execute_result"
    }
   ],
   "source": [
    "using Matching\n",
    "function mat2vecs{T<:Integer}(prefs::Matrix{T})\n",
    "    return [prefs[1:findfirst(prefs[:, j], 0)-1, j] for j in 1:size(prefs, 2)]\n",
    "end"
   ]
  },
  {
   "cell_type": "code",
   "execution_count": 4,
   "metadata": {
    "collapsed": false
   },
   "outputs": [
    {
     "data": {
      "text/plain": [
       "(Array{Int64,1}[[1],[2,3,1],[3,2],[2,3]],Array{Int64,1}[[2,1],[4,1,2],[4]])"
      ]
     },
     "execution_count": 4,
     "metadata": {},
     "output_type": "execute_result"
    }
   ],
   "source": [
    "m_prefs, f_prefs = mat2vecs.(random_prefs(m, n, allow_unmatched=false))\n",
    "m_prefs, f_prefs = mat2vecs.(random_prefs(m, n))"
   ]
  },
  {
   "cell_type": "code",
   "execution_count": 5,
   "metadata": {
    "collapsed": false
   },
   "outputs": [],
   "source": [
    "for o in 1:m\n",
    "    push!(m_prefs[o],0)\n",
    "end\n",
    "\n",
    "for k in 1:n\n",
    "    push!(f_prefs[k],0)\n",
    "end"
   ]
  },
  {
   "cell_type": "code",
   "execution_count": 6,
   "metadata": {
    "collapsed": false
   },
   "outputs": [
    {
     "data": {
      "text/plain": [
       "4-element Array{Array{Int64,1},1}:\n",
       " [1,0]    \n",
       " [2,3,1,0]\n",
       " [3,2,0]  \n",
       " [2,3,0]  "
      ]
     },
     "execution_count": 6,
     "metadata": {},
     "output_type": "execute_result"
    }
   ],
   "source": [
    "m_prefs"
   ]
  },
  {
   "cell_type": "code",
   "execution_count": 7,
   "metadata": {
    "collapsed": false
   },
   "outputs": [
    {
     "data": {
      "text/plain": [
       "3-element Array{Array{Int64,1},1}:\n",
       " [2,1,0]  \n",
       " [4,1,2,0]\n",
       " [4,0]    "
      ]
     },
     "execution_count": 7,
     "metadata": {},
     "output_type": "execute_result"
    }
   ],
   "source": [
    "f_prefs"
   ]
  },
  {
   "cell_type": "code",
   "execution_count": 12,
   "metadata": {
    "collapsed": false
   },
   "outputs": [
    {
     "name": "stderr",
     "output_type": "stream",
     "text": [
      "WARNING: Method definition "
     ]
    },
    {
     "ename": "LoadError",
     "evalue": "UndefVarError: matched_m not defined",
     "output_type": "error",
     "traceback": [
      "UndefVarError: matched_m not defined",
      ""
     ]
    },
    {
     "name": "stderr",
     "output_type": "stream",
     "text": [
      "matching(Any, Any) in module Main at In[11]:3 overwritten at In[12]:3.\n"
     ]
    }
   ],
   "source": [
    "function matching(m_prefs,f_prefs)\n",
    "\n",
    "    Z = zeros(m,n) \n",
    "    matched_m = zeros(1,m) \n",
    "    matched_f = zeros(1,n)\n",
    "    \n",
    "    \n",
    "    for i in 1:m        #男性m人について\n",
    "     \n",
    "        if m_prefs[i][1] == 0.0　　#男性iが独身を第一志望するとき\n",
    "            \n",
    "            matched_m[i] = 0.0                    \n",
    "        end\n",
    "            \n",
    "        if m_prefs[i][1] !== 0.0  #男性iが第一志望する女性がいるとき\n",
    "\n",
    "                    \n",
    "            if sum(Z[:,m_prefs[i][1]]) == 0.0　#男性iが第一志望する女性の列に誰もいないとき\n",
    "                \n",
    "                matched_m[i] = m_prefs[i][1]\n",
    "                matched_f[m_prefs[i][1]] = i\n",
    "                Z[i,m_prefs[i][1]] = 1.0   \n",
    "            end\n",
    "                \n",
    "            if sum(Z[:,m_prefs[i][1]]) == 1.0 #男性iが第一志望する女性の列に誰かいるとき\n",
    "                    \n",
    "                if findfirst(f_prefs[m_prefs[i][1]],i) < findfirst(f_prefs[m_prefs[i][1]],size(Z[:,m_prefs[i][1]],1.0))\n",
    "                #男性iが受け入れ保留されていた男性よりも女性に好まれているとき\n",
    "                        \n",
    "                    matched_m[i] = m_prefs[i][1]\n",
    "                    matched_f[m_prefs[i][1]] = i\n",
    "                    Z[i,m_prefs[i][1]] = 1.0\n",
    "                    Z[size(Z[:,m_prefs[i][1]],1.0),m_prefs[i][1]] = 0.0\n",
    "                    shift!(m_prefs[size(Z[:,m_prefs[i][1]],1.0)]) #受け入れ保留されていた男性の志望から第一志望を除く\n",
    "                    \n",
    "                end                    \n",
    "                \n",
    "                else #受け入れ保留されていた男性のほうが女性に好まれているとき\n",
    "                    \n",
    "                    shift!(m_prefs[i]) #男性iの志望から第一志望を除く\n",
    "                    \n",
    "                end\n",
    "                \n",
    "            end\n",
    "        end\n",
    "    end\n",
    "\n",
    "    return matched_m, matched_f\n",
    "\n",
    "end"
   ]
  },
  {
   "cell_type": "code",
   "execution_count": null,
   "metadata": {
    "collapsed": true
   },
   "outputs": [],
   "source": []
  }
 ],
 "metadata": {
  "kernelspec": {
   "display_name": "Julia 0.5.1",
   "language": "julia",
   "name": "julia-0.5"
  },
  "language_info": {
   "file_extension": ".jl",
   "mimetype": "application/julia",
   "name": "julia",
   "version": "0.5.1"
  }
 },
 "nbformat": 4,
 "nbformat_minor": 2
}
