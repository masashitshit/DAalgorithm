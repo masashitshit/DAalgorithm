{
 "cells": [
  {
   "cell_type": "code",
   "execution_count": 1,
   "metadata": {
    "collapsed": false
   },
   "outputs": [
    {
     "data": {
      "text/plain": [
       "3"
      ]
     },
     "execution_count": 1,
     "metadata": {},
     "output_type": "execute_result"
    }
   ],
   "source": [
    "m = 4\n",
    "n = 3"
   ]
  },
  {
   "cell_type": "code",
   "execution_count": 2,
   "metadata": {
    "collapsed": false
   },
   "outputs": [
    {
     "data": {
      "text/plain": [
       "(Array{Int64,1}[[3,1],[3,1,2],[3,1,2],[1,2]],Array{Int64,1}[[2,3,1],[2,4],[3,1,4]])"
      ]
     },
     "execution_count": 2,
     "metadata": {},
     "output_type": "execute_result"
    }
   ],
   "source": [
    "using Matching\n",
    "function mat2vecs{T<:Integer}(prefs::Matrix{T})\n",
    "    return [prefs[1:findfirst(prefs[:, j], 0)-1, j] for j in 1:size(prefs, 2)]\n",
    "end\n",
    "m_prefs, f_prefs = mat2vecs.(random_prefs(m, n, allow_unmatched=false))\n",
    "m_prefs, f_prefs = mat2vecs.(random_prefs(m, n))"
   ]
  },
  {
   "cell_type": "code",
   "execution_count": 3,
   "metadata": {
    "collapsed": false
   },
   "outputs": [
    {
     "data": {
      "text/plain": [
       "3-element Array{Array{Int64,1},1}:\n",
       " [2,3,1]\n",
       " [2,4]  \n",
       " [3,1,4]"
      ]
     },
     "execution_count": 3,
     "metadata": {},
     "output_type": "execute_result"
    }
   ],
   "source": [
    "m_prefs\n",
    "f_prefs"
   ]
  },
  {
   "cell_type": "code",
   "execution_count": 4,
   "metadata": {
    "collapsed": false
   },
   "outputs": [
    {
     "data": {
      "text/plain": [
       "matching (generic function with 1 method)"
      ]
     },
     "execution_count": 4,
     "metadata": {},
     "output_type": "execute_result"
    }
   ],
   "source": [
    "function matching(m_prefs,f_prefs)\n",
    "    \n",
    "    matched_m = zeros(Int64,m)\n",
    "    matched_f = zeros(Int64,n)\n",
    "    accepted_m = zeros(Int64,m)\n",
    "    \n",
    "    while sum(accepted_m) !== m\n",
    "        \n",
    "        for i in 1:m\n",
    "            \n",
    "            while matched_m[i] == 0\n",
    "                \n",
    "                if length(m_prefs[i]) == 0\n",
    "                    \n",
    "                    accepted_m[i] = 1\n",
    "                    break\n",
    "                    \n",
    "                else\n",
    "                    \n",
    "                    if in(f_prefs[m_prefs[i][1]],i) == false\n",
    "                        \n",
    "                        shift!(m_prefs[i])\n",
    "                        \n",
    "                    else\n",
    "                        \n",
    "                        if matched_f[m_prefs[i][1]] == 0\n",
    "                            \n",
    "                            matched_m[i] = m_prefs[i][1]\n",
    "                            matched_f[m_prefs[i][1]] = i\n",
    "                            \n",
    "                        else\n",
    "                            \n",
    "                            if findfirst(f_prefs[m_prefs[i][1]],i) < findfirst(f_prefs[m_prefs[i][1]],matched_f[m_prefs[i][1]])\n",
    "                                \n",
    "                                accepted_m[i] = 1\n",
    "                                accepted_m[matched_f[m_prefs[i][1]]] = 0      #保留されていた男性を受け入れ済みから除く\n",
    "                                matched_m[matched_f[m_prefs[i][1]]] =　0\n",
    "                                matched_m[i] = m_prefs[i][1]\n",
    "                                matched_f[m_prefs[i][1]] = i\n",
    "                                shift!(m_prefs[matched_f[m_prefs[i][1]]]) 　　#保留されていた男性の志望から第一志望を除く\n",
    "                                \n",
    "                            else\n",
    "                                \n",
    "                                shift!(m_prefs[i])       #男性iの志望から第一志望を除く\n",
    "                                \n",
    "                            end\n",
    "                            \n",
    "                        end\n",
    "                        \n",
    "                    end\n",
    "                    \n",
    "                end\n",
    "                \n",
    "            end\n",
    "            \n",
    "        end\n",
    "        \n",
    "    end\n",
    "    \n",
    "    return matched_m,matched_f\n",
    "    \n",
    "end\n",
    "                                \n",
    "                    \n",
    "                    "
   ]
  },
  {
   "cell_type": "code",
   "execution_count": 5,
   "metadata": {
    "collapsed": false
   },
   "outputs": [
    {
     "data": {
      "text/plain": [
       "6"
      ]
     },
     "execution_count": 5,
     "metadata": {},
     "output_type": "execute_result"
    }
   ],
   "source": [
    "a =[1,2,3,4,5,5,6,2,2,]\n",
    "findlast(a,5)"
   ]
  },
  {
   "cell_type": "code",
   "execution_count": 6,
   "metadata": {
    "collapsed": false
   },
   "outputs": [
    {
     "data": {
      "text/plain": [
       "15"
      ]
     },
     "execution_count": 6,
     "metadata": {},
     "output_type": "execute_result"
    }
   ],
   "source": [
    "findlast(a,5)+findlast(a,2)"
   ]
  },
  {
   "cell_type": "code",
   "execution_count": 7,
   "metadata": {
    "collapsed": false
   },
   "outputs": [
    {
     "data": {
      "text/plain": [
       "7"
      ]
     },
     "execution_count": 7,
     "metadata": {},
     "output_type": "execute_result"
    }
   ],
   "source": [
    "findlast(a,5) + 1"
   ]
  },
  {
   "cell_type": "code",
   "execution_count": 8,
   "metadata": {
    "collapsed": false
   },
   "outputs": [
    {
     "data": {
      "text/plain": [
       "matching2 (generic function with 1 method)"
      ]
     },
     "execution_count": 8,
     "metadata": {},
     "output_type": "execute_result"
    }
   ],
   "source": [
    "function matching2(m_prefs,f_prefs)\n",
    "    \n",
    "    matched_m = zeros(Int64,m)\n",
    "    matched_f = zeros(Int64,n)\n",
    "    accepted_m = zeros(Int64,m)\n",
    "    \n",
    "    while sum(accepted_m) !== m\n",
    "        \n",
    "        for i in 1:m\n",
    "            \n",
    "            if sum(m_prefs[i]) == 0\n",
    "                \n",
    "                accepted_m[i] = 1\n",
    "                break\n",
    "                \n",
    "            else\n",
    "                \n",
    "                if in(f_prefs[m_prefs[i][findlast(m_prefs[i],0)+1]],i) == false\n",
    "                    \n",
    "                    m_prefs[i][findlast(m_prefs[i],0)+1] = 0\n",
    "                    break\n",
    "                    \n",
    "                else\n",
    "                    \n",
    "                    if matched_f[m_prefs[i][findlast(m_prefs[i],0)+1]] == 0\n",
    "                        \n",
    "                        matched_m[i] = m_prefs[i][findlast(m_prefs[i],0)+1]\n",
    "                        matched_f[m_prefs[i][findlast(m_prefs[i],0)+1]] = i\n",
    "                        accepted_m[i] = 1\n",
    "                        break\n",
    "                        \n",
    "                    else\n",
    "                        \n",
    "                        if findfirst(f_prefs[m_prefs[i][findlast(m_prefs[i],0)+1]],i) < findfirst(f_prefs[m_prefs[i][findlast(m_prefs[i],0)+1]],matched_f[m_prefs[i][findlast(m_prefs[i],0)+1]])\n",
    "                            \n",
    "                            accepted_m[matched_f[m_prefs[i][findlast(m_prefs[i],0)+1]]] = 0      #保留されていた男性を受け入れ済みから除く\n",
    "                            m_prefs[matched_f[m_prefs[i][findlast(m_prefs[i],0)+1]]][findlast(m_prefs[matched_f[m_prefs[i][findlast(m_prefs[i],0)+1]]],0)+1] = 0\n",
    "                            #保留されていた男性の選択肢の0のインデックス+1を0とする\n",
    "                            matched_m[matched_f[m_prefs[i][findlast(m_prefs[i],0)+1]]] =　0\n",
    "                            matched_m[i] = m_prefs[i][findlast(m_prefs[i],0)+1]\n",
    "                            matched_f[m_prefs[i][findlast(m_prefs[i],0)+1]] = i\n",
    "                            accepted_m[i] = 1               #男性iは受け入れ済みに\n",
    "                            break\n",
    "                            \n",
    "                        else\n",
    "                            \n",
    "                            m_prefs[i][findlast(m_prefs[i],0)+1] = 0\n",
    "                            break\n",
    "                            \n",
    "                        end\n",
    "                        \n",
    "                    end\n",
    "                    \n",
    "                end\n",
    "                \n",
    "            end\n",
    "            \n",
    "        end\n",
    "        \n",
    "    end\n",
    "    \n",
    "    return matched_m,matched_f\n",
    "    \n",
    "end\n",
    "                            \n",
    "                            \n",
    "                            \n",
    "                    \n",
    "        \n",
    "        \n",
    "    "
   ]
  },
  {
   "cell_type": "code",
   "execution_count": null,
   "metadata": {
    "collapsed": true
   },
   "outputs": [],
   "source": [
    "function matching3(m_prefs,f_prefs)\n",
    "    \n",
    "    matched_m = zeros(Int64,m)\n",
    "    matched_f = zeros(Int64,n)\n",
    "    "
   ]
  }
 ],
 "metadata": {
  "language_info": {
   "file_extension": ".jl",
   "mimetype": "application/julia",
   "name": "julia",
   "version": "0.5.1"
  }
 },
 "nbformat": 4,
 "nbformat_minor": 2
}
