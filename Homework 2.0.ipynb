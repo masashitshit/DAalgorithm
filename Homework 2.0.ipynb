{
 "cells": [
  {
   "cell_type": "markdown",
   "metadata": {},
   "source": [
    "受入保留 (Deferred Acceptance) アルゴリズムを実装してみる。"
   ]
  },
  {
   "cell_type": "code",
   "execution_count": 1,
   "metadata": {
    "collapsed": false
   },
   "outputs": [
    {
     "data": {
      "text/plain": [
       "3"
      ]
     },
     "execution_count": 1,
     "metadata": {},
     "output_type": "execute_result"
    }
   ],
   "source": [
    "m = 4\n",
    "n = 3"
   ]
  },
  {
   "cell_type": "code",
   "execution_count": 2,
   "metadata": {
    "collapsed": false
   },
   "outputs": [
    {
     "data": {
      "text/plain": [
       "3-element Array{Int64,1}:\n",
       " 1\n",
       " 2\n",
       " 3"
      ]
     },
     "execution_count": 2,
     "metadata": {},
     "output_type": "execute_result"
    }
   ],
   "source": [
    "M = [i for i in 1:m]\n",
    "F = [j for j in 1:n]"
   ]
  },
  {
   "cell_type": "code",
   "execution_count": 3,
   "metadata": {
    "collapsed": true
   },
   "outputs": [],
   "source": [
    "using Matching"
   ]
  },
  {
   "cell_type": "code",
   "execution_count": 4,
   "metadata": {
    "collapsed": false
   },
   "outputs": [
    {
     "data": {
      "text/plain": [
       "mat2vecs (generic function with 1 method)"
      ]
     },
     "execution_count": 4,
     "metadata": {},
     "output_type": "execute_result"
    }
   ],
   "source": [
    "function mat2vecs{T<:Integer}(prefs::Matrix{T})\n",
    "    return [prefs[1:findfirst(prefs[:, j], 0)-1, j] for j in 1:size(prefs, 2)]\n",
    "end"
   ]
  },
  {
   "cell_type": "code",
   "execution_count": 5,
   "metadata": {
    "collapsed": false
   },
   "outputs": [
    {
     "data": {
      "text/plain": [
       "(Array{Int64,1}[[1,2,3],[3,2,1],[3,1,2],[2,1,3]],Array{Int64,1}[[4,2,3,1],[2,3,1,4],[2,4,1,3]])"
      ]
     },
     "execution_count": 5,
     "metadata": {},
     "output_type": "execute_result"
    }
   ],
   "source": [
    "m_prefs, f_prefs = mat2vecs.(random_prefs(m, n, allow_unmatched=false))"
   ]
  },
  {
   "cell_type": "code",
   "execution_count": 6,
   "metadata": {
    "collapsed": false
   },
   "outputs": [
    {
     "data": {
      "text/plain": [
       "(Array{Int64,1}[[2],[3,2,1],[2],[1]],Array{Int64,1}[[2,4,3],[4,1,2,3],[1]])"
      ]
     },
     "execution_count": 6,
     "metadata": {},
     "output_type": "execute_result"
    }
   ],
   "source": [
    "m_prefs, f_prefs = mat2vecs.(random_prefs(m, n))"
   ]
  },
  {
   "cell_type": "code",
   "execution_count": 7,
   "metadata": {
    "collapsed": false
   },
   "outputs": [
    {
     "data": {
      "text/plain": [
       "4-element Array{Array{Int64,1},1}:\n",
       " [2]    \n",
       " [3,2,1]\n",
       " [2]    \n",
       " [1]    "
      ]
     },
     "execution_count": 7,
     "metadata": {},
     "output_type": "execute_result"
    }
   ],
   "source": [
    "m_prefs"
   ]
  },
  {
   "cell_type": "code",
   "execution_count": 8,
   "metadata": {
    "collapsed": false
   },
   "outputs": [
    {
     "data": {
      "text/plain": [
       "3-element Array{Array{Int64,1},1}:\n",
       " [2,4,3]  \n",
       " [4,1,2,3]\n",
       " [1]      "
      ]
     },
     "execution_count": 8,
     "metadata": {},
     "output_type": "execute_result"
    }
   ],
   "source": [
    "f_prefs"
   ]
  },
  {
   "cell_type": "code",
   "execution_count": 9,
   "metadata": {
    "collapsed": false
   },
   "outputs": [
    {
     "data": {
      "text/plain": [
       "4×3 Array{Float64,2}:\n",
       " 0.0  0.0  0.0\n",
       " 0.0  0.0  0.0\n",
       " 0.0  0.0  0.0\n",
       " 0.0  0.0  0.0"
      ]
     },
     "execution_count": 9,
     "metadata": {},
     "output_type": "execute_result"
    }
   ],
   "source": [
    "S = zeros(m,n)　#受け入れ保留する組み合わせを0.0 -> 1.0とする　（unmatched がなければ rank(s)=n ??)"
   ]
  },
  {
   "cell_type": "code",
   "execution_count": 10,
   "metadata": {
    "collapsed": false
   },
   "outputs": [
    {
     "data": {
      "text/plain": [
       "4×3 Array{Float64,2}:\n",
       " 0.0  0.0  0.0\n",
       " 0.0  0.0  0.0\n",
       " 0.0  0.0  0.0\n",
       " 0.0  0.0  0.0"
      ]
     },
     "execution_count": 10,
     "metadata": {},
     "output_type": "execute_result"
    }
   ],
   "source": [
    "S"
   ]
  },
  {
   "cell_type": "code",
   "execution_count": 11,
   "metadata": {
    "collapsed": false
   },
   "outputs": [
    {
     "data": {
      "text/plain": [
       "0.0"
      ]
     },
     "execution_count": 11,
     "metadata": {},
     "output_type": "execute_result"
    }
   ],
   "source": [
    "S[2,2]"
   ]
  },
  {
   "cell_type": "code",
   "execution_count": 12,
   "metadata": {
    "collapsed": false
   },
   "outputs": [
    {
     "data": {
      "text/plain": [
       "true"
      ]
     },
     "execution_count": 12,
     "metadata": {},
     "output_type": "execute_result"
    }
   ],
   "source": [
    "S[:,1] == zeros(m)"
   ]
  },
  {
   "cell_type": "code",
   "execution_count": 13,
   "metadata": {
    "collapsed": false
   },
   "outputs": [
    {
     "data": {
      "text/plain": [
       "true"
      ]
     },
     "execution_count": 13,
     "metadata": {},
     "output_type": "execute_result"
    }
   ],
   "source": [
    "S[1,:] == zeros(n)"
   ]
  },
  {
   "cell_type": "code",
   "execution_count": 14,
   "metadata": {
    "collapsed": false
   },
   "outputs": [
    {
     "data": {
      "text/plain": [
       "4-element Array{Float64,1}:\n",
       " 0.0\n",
       " 0.0\n",
       " 0.0\n",
       " 0.0"
      ]
     },
     "execution_count": 14,
     "metadata": {},
     "output_type": "execute_result"
    }
   ],
   "source": [
    "zeros(m)"
   ]
  },
  {
   "cell_type": "code",
   "execution_count": 15,
   "metadata": {
    "collapsed": false
   },
   "outputs": [
    {
     "ename": "LoadError",
     "evalue": "syntax: space before \"(\" not allowed in \"matching (\"",
     "output_type": "error",
     "traceback": [
      "syntax: space before \"(\" not allowed in \"matching (\"",
      ""
     ]
    }
   ],
   "source": [
    "function matching (m_prefs, f_prefs)\n",
    "    \n",
    "    S = zeros(m,n)  B = []\n",
    "    \n",
    "    for i in 1:m\n",
    "    \n",
    "        if m_prefs[i] == B     #男性の好む女性がいない（いなくなった）とき\n",
    "        \n",
    "            return m_matched[i] = 0\n",
    "        \n",
    "        end\n",
    "    \n",
    "        if m_prefs[i] !== B　　#男性の志望する女性がいるとき\n",
    "        \n",
    "        \n",
    "            if S[:,m_prefs[i]] == zeros(m)   #女性のとこに誰もいなければ\n",
    "      \n",
    "                return S[i,m_prefs[i]] = 1.0　\n",
    "        \n",
    "            end\n",
    "    \n",
    "            if S[:,m_prefs[i]] !== zeros(m)　　#女性のところに誰かいれば（受け入れ保留されている）\n",
    "        \n",
    "            \n",
    "                \n",
    "                if                                           #iのほうが女性の志望度が高いとき\n",
    "                    \n",
    "                end\n",
    "                \n",
    "                if                                           #iのほうが女性の志望度が低いとき\n",
    "                    \n",
    "                end\n",
    "                \n",
    "            end\n",
    "            \n",
    "        end\n",
    "        \n",
    "    end\n",
    "        \n",
    "        "
   ]
  },
  {
   "cell_type": "code",
   "execution_count": 16,
   "metadata": {
    "collapsed": false,
    "scrolled": false
   },
   "outputs": [
    {
     "name": "stdout",
     "output_type": "stream",
     "text": [
      "search: \u001b[1mf\u001b[22m\u001b[1mi\u001b[22m\u001b[1mn\u001b[22m\u001b[1md\u001b[22m\u001b[1mf\u001b[22m\u001b[1mi\u001b[22m\u001b[1mr\u001b[22m\u001b[1ms\u001b[22m\u001b[1mt\u001b[22m\n",
      "\n"
     ]
    },
    {
     "data": {
      "text/markdown": [
       "```\n",
       "findfirst(A)\n",
       "```\n",
       "\n",
       "Return the linear index of the first non-zero value in `A` (determined by `A[i]!=0`). Returns `0` if no such value is found.\n",
       "\n",
       "```jldoctest\n",
       "julia> A = [0 0; 1 0]\n",
       "2×2 Array{Int64,2}:\n",
       " 0  0\n",
       " 1  0\n",
       "\n",
       "julia> findfirst(A)\n",
       "2\n",
       "```\n",
       "\n",
       "```\n",
       "findfirst(A, v)\n",
       "```\n",
       "\n",
       "Return the linear index of the first element equal to `v` in `A`. Returns `0` if `v` is not found.\n",
       "\n",
       "```jldoctest\n",
       "julia> A = [4 6; 2 2]\n",
       "2×2 Array{Int64,2}:\n",
       " 4  6\n",
       " 2  2\n",
       "\n",
       "julia> findfirst(A,2)\n",
       "2\n",
       "\n",
       "julia> findfirst(A,3)\n",
       "0\n",
       "```\n",
       "\n",
       "```\n",
       "findfirst(predicate::Function, A)\n",
       "```\n",
       "\n",
       "Return the linear index of the first element of `A` for which `predicate` returns `true`. Returns `0` if there is no such element.\n",
       "\n",
       "```jldoctest\n",
       "julia> A = [1 4; 2 2]\n",
       "2×2 Array{Int64,2}:\n",
       " 1  4\n",
       " 2  2\n",
       "\n",
       "julia> findfirst(iseven, A)\n",
       "2\n",
       "\n",
       "julia> findfirst(x -> x>10, A)\n",
       "0\n",
       "```\n"
      ],
      "text/plain": [
       "```\n",
       "findfirst(A)\n",
       "```\n",
       "\n",
       "Return the linear index of the first non-zero value in `A` (determined by `A[i]!=0`). Returns `0` if no such value is found.\n",
       "\n",
       "```jldoctest\n",
       "julia> A = [0 0; 1 0]\n",
       "2×2 Array{Int64,2}:\n",
       " 0  0\n",
       " 1  0\n",
       "\n",
       "julia> findfirst(A)\n",
       "2\n",
       "```\n",
       "\n",
       "```\n",
       "findfirst(A, v)\n",
       "```\n",
       "\n",
       "Return the linear index of the first element equal to `v` in `A`. Returns `0` if `v` is not found.\n",
       "\n",
       "```jldoctest\n",
       "julia> A = [4 6; 2 2]\n",
       "2×2 Array{Int64,2}:\n",
       " 4  6\n",
       " 2  2\n",
       "\n",
       "julia> findfirst(A,2)\n",
       "2\n",
       "\n",
       "julia> findfirst(A,3)\n",
       "0\n",
       "```\n",
       "\n",
       "```\n",
       "findfirst(predicate::Function, A)\n",
       "```\n",
       "\n",
       "Return the linear index of the first element of `A` for which `predicate` returns `true`. Returns `0` if there is no such element.\n",
       "\n",
       "```jldoctest\n",
       "julia> A = [1 4; 2 2]\n",
       "2×2 Array{Int64,2}:\n",
       " 1  4\n",
       " 2  2\n",
       "\n",
       "julia> findfirst(iseven, A)\n",
       "2\n",
       "\n",
       "julia> findfirst(x -> x>10, A)\n",
       "0\n",
       "```\n"
      ]
     },
     "execution_count": 16,
     "metadata": {},
     "output_type": "execute_result"
    }
   ],
   "source": [
    "? findfirst"
   ]
  },
  {
   "cell_type": "code",
   "execution_count": 17,
   "metadata": {
    "collapsed": false
   },
   "outputs": [
    {
     "name": "stdout",
     "output_type": "stream",
     "text": [
      "search: \u001b[1mr\u001b[22m\u001b[1me\u001b[22m\u001b[1mp\u001b[22m\u001b[1ml\u001b[22m\u001b[1ma\u001b[22m\u001b[1mc\u001b[22m\u001b[1me\u001b[22m \u001b[1mr\u001b[22m\u001b[1me\u001b[22mdis\u001b[1mp\u001b[22m\u001b[1ml\u001b[22m\u001b[1ma\u001b[22my\n",
      "\n"
     ]
    },
    {
     "data": {
      "text/markdown": [
       "```\n",
       "replace(string, pat, r[, n])\n",
       "```\n",
       "\n",
       "Search for the given pattern `pat`, and replace each occurrence with `r`. If `n` is provided, replace at most `n` occurrences. As with search, the second argument may be a single character, a vector or a set of characters, a string, or a regular expression. If `r` is a function, each occurrence is replaced with `r(s)` where `s` is the matched substring. If `pat` is a regular expression and `r` is a `SubstitutionString`, then capture group references in `r` are replaced with the corresponding matched text.\n"
      ],
      "text/plain": [
       "```\n",
       "replace(string, pat, r[, n])\n",
       "```\n",
       "\n",
       "Search for the given pattern `pat`, and replace each occurrence with `r`. If `n` is provided, replace at most `n` occurrences. As with search, the second argument may be a single character, a vector or a set of characters, a string, or a regular expression. If `r` is a function, each occurrence is replaced with `r(s)` where `s` is the matched substring. If `pat` is a regular expression and `r` is a `SubstitutionString`, then capture group references in `r` are replaced with the corresponding matched text.\n"
      ]
     },
     "execution_count": 17,
     "metadata": {},
     "output_type": "execute_result"
    }
   ],
   "source": [
    "? replace "
   ]
  },
  {
   "cell_type": "code",
   "execution_count": 18,
   "metadata": {
    "collapsed": false
   },
   "outputs": [
    {
     "data": {
      "text/plain": [
       "3-element Array{Array{Int64,1},1}:\n",
       " [1,2,3]\n",
       " [2]    \n",
       " [3,1,2]"
      ]
     },
     "execution_count": 18,
     "metadata": {},
     "output_type": "execute_result"
    }
   ],
   "source": [
    "ff = [[1,2,3],[2],[3,1,2]]"
   ]
  },
  {
   "cell_type": "code",
   "execution_count": 19,
   "metadata": {
    "collapsed": false
   },
   "outputs": [
    {
     "data": {
      "text/plain": [
       "1"
      ]
     },
     "execution_count": 19,
     "metadata": {},
     "output_type": "execute_result"
    }
   ],
   "source": [
    "findfirst(ff)"
   ]
  },
  {
   "cell_type": "code",
   "execution_count": 20,
   "metadata": {
    "collapsed": false
   },
   "outputs": [
    {
     "data": {
      "text/plain": [
       "1"
      ]
     },
     "execution_count": 20,
     "metadata": {},
     "output_type": "execute_result"
    }
   ],
   "source": [
    "findfirst(ff[2])"
   ]
  },
  {
   "cell_type": "code",
   "execution_count": 21,
   "metadata": {
    "collapsed": false
   },
   "outputs": [
    {
     "data": {
      "text/plain": [
       "1"
      ]
     },
     "execution_count": 21,
     "metadata": {},
     "output_type": "execute_result"
    }
   ],
   "source": [
    "findfirst(ff[3])"
   ]
  },
  {
   "cell_type": "code",
   "execution_count": 28,
   "metadata": {
    "collapsed": false
   },
   "outputs": [
    {
     "name": "stderr",
     "output_type": "stream",
     "text": [
      "WARNING: Method definition "
     ]
    },
    {
     "data": {
      "text/plain": [
       "matching (generic function with 1 method)"
      ]
     },
     "execution_count": 28,
     "metadata": {},
     "output_type": "execute_result"
    },
    {
     "name": "stderr",
     "output_type": "stream",
     "text": [
      "matching(Any, Any) in module Main at In[25]:3 overwritten at In[28]:3.\n"
     ]
    }
   ],
   "source": [
    "function matching(m_prefs, f_prefs)\n",
    "    \n",
    "    S = zeros(m,n)  \n",
    "    B =[]\n",
    "    \n",
    "    for i in 1:m\n",
    "    \n",
    "    return replace(S[i,m_prefs[i][1]],1.0)\n",
    "        \n",
    "    end\n",
    "    \n",
    "end"
   ]
  },
  {
   "cell_type": "code",
   "execution_count": 27,
   "metadata": {
    "collapsed": false
   },
   "outputs": [
    {
     "ename": "LoadError",
     "evalue": "MethodError: no method matching replace(::Float64, ::Float64)\u001b[0m\nClosest candidates are:\n  replace(\u001b[1m\u001b[31m::String\u001b[0m, ::Any, \u001b[1m\u001b[31m::Any\u001b[0m, \u001b[1m\u001b[31m::Integer\u001b[0m) at strings/util.jl:181\n  replace(\u001b[1m\u001b[31m::AbstractString\u001b[0m, ::Any, \u001b[1m\u001b[31m::Any\u001b[0m) at strings/util.jl:211\n  replace(\u001b[1m\u001b[31m::AbstractString\u001b[0m, ::Any, \u001b[1m\u001b[31m::Any\u001b[0m, \u001b[1m\u001b[31m::Integer\u001b[0m) at strings/util.jl:210\u001b[0m",
     "output_type": "error",
     "traceback": [
      "MethodError: no method matching replace(::Float64, ::Float64)\u001b[0m\nClosest candidates are:\n  replace(\u001b[1m\u001b[31m::String\u001b[0m, ::Any, \u001b[1m\u001b[31m::Any\u001b[0m, \u001b[1m\u001b[31m::Integer\u001b[0m) at strings/util.jl:181\n  replace(\u001b[1m\u001b[31m::AbstractString\u001b[0m, ::Any, \u001b[1m\u001b[31m::Any\u001b[0m) at strings/util.jl:211\n  replace(\u001b[1m\u001b[31m::AbstractString\u001b[0m, ::Any, \u001b[1m\u001b[31m::Any\u001b[0m, \u001b[1m\u001b[31m::Integer\u001b[0m) at strings/util.jl:210\u001b[0m",
      "",
      " in matching(::Array{Array{Int64,1},1}, ::Array{Array{Int64,1},1}) at .\\In[25]:8"
     ]
    }
   ],
   "source": [
    "matching(m_prefs,f_prefs)"
   ]
  },
  {
   "cell_type": "code",
   "execution_count": 30,
   "metadata": {
    "collapsed": false
   },
   "outputs": [
    {
     "name": "stdout",
     "output_type": "stream",
     "text": [
      "search: \u001b[1mS\u001b[22m\u001b[1me\u001b[22m\u001b[1mt\u001b[22m \u001b[1ms\u001b[22m\u001b[1me\u001b[22m\u001b[1mt\u001b[22menv \u001b[1ms\u001b[22m\u001b[1me\u001b[22m\u001b[1mt\u001b[22mdiff \u001b[1ms\u001b[22m\u001b[1me\u001b[22m\u001b[1mt\u001b[22mdiff! \u001b[1ms\u001b[22m\u001b[1me\u001b[22m\u001b[1mt\u001b[22mfield! \u001b[1ms\u001b[22m\u001b[1me\u001b[22m\u001b[1mt\u001b[22mindex! \u001b[1ms\u001b[22m\u001b[1me\u001b[22m\u001b[1mt\u001b[22mrounding \u001b[1ms\u001b[22m\u001b[1me\u001b[22m\u001b[1mt\u001b[22mprecision\n",
      "\n"
     ]
    },
    {
     "data": {
      "text/markdown": [
       "```\n",
       "Set([itr])\n",
       "```\n",
       "\n",
       "Construct a [`Set`](:obj:`Set`) of the values generated by the given iterable object, or an empty set. Should be used instead of [`IntSet`](:obj:`IntSet`) for sparse integer sets, or for sets of arbitrary objects.\n"
      ],
      "text/plain": [
       "```\n",
       "Set([itr])\n",
       "```\n",
       "\n",
       "Construct a [`Set`](:obj:`Set`) of the values generated by the given iterable object, or an empty set. Should be used instead of [`IntSet`](:obj:`IntSet`) for sparse integer sets, or for sets of arbitrary objects.\n"
      ]
     },
     "execution_count": 30,
     "metadata": {},
     "output_type": "execute_result"
    }
   ],
   "source": [
    "? Set"
   ]
  },
  {
   "cell_type": "code",
   "execution_count": null,
   "metadata": {
    "collapsed": true
   },
   "outputs": [],
   "source": []
  }
 ],
 "metadata": {
  "kernelspec": {
   "display_name": "Julia 0.5.1",
   "language": "julia",
   "name": "julia-0.5"
  },
  "language_info": {
   "file_extension": ".jl",
   "mimetype": "application/julia",
   "name": "julia",
   "version": "0.5.1"
  }
 },
 "nbformat": 4,
 "nbformat_minor": 2
}
