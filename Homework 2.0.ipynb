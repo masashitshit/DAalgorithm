{
 "cells": [
  {
   "cell_type": "markdown",
   "metadata": {},
   "source": [
    "受入保留 (Deferred Acceptance) アルゴリズムを実装してみる。"
   ]
  },
  {
   "cell_type": "code",
   "execution_count": 1,
   "metadata": {
    "collapsed": false
   },
   "outputs": [
    {
     "data": {
      "text/plain": [
       "3"
      ]
     },
     "execution_count": 1,
     "metadata": {},
     "output_type": "execute_result"
    }
   ],
   "source": [
    "m = 4\n",
    "n = 3"
   ]
  },
  {
   "cell_type": "code",
   "execution_count": 2,
   "metadata": {
    "collapsed": false
   },
   "outputs": [
    {
     "data": {
      "text/plain": [
       "3-element Array{Int64,1}:\n",
       " 1\n",
       " 2\n",
       " 3"
      ]
     },
     "execution_count": 2,
     "metadata": {},
     "output_type": "execute_result"
    }
   ],
   "source": [
    "M = [i for i in 1:m]\n",
    "F = [j for j in 1:n]"
   ]
  },
  {
   "cell_type": "code",
   "execution_count": 3,
   "metadata": {
    "collapsed": true
   },
   "outputs": [],
   "source": [
    "using Matching"
   ]
  },
  {
   "cell_type": "code",
   "execution_count": 4,
   "metadata": {
    "collapsed": false
   },
   "outputs": [
    {
     "data": {
      "text/plain": [
       "mat2vecs (generic function with 1 method)"
      ]
     },
     "execution_count": 4,
     "metadata": {},
     "output_type": "execute_result"
    }
   ],
   "source": [
    "function mat2vecs{T<:Integer}(prefs::Matrix{T})\n",
    "    return [prefs[1:findfirst(prefs[:, j], 0)-1, j] for j in 1:size(prefs, 2)]\n",
    "end"
   ]
  },
  {
   "cell_type": "code",
   "execution_count": 5,
   "metadata": {
    "collapsed": false
   },
   "outputs": [
    {
     "data": {
      "text/plain": [
       "(Array{Int64,1}[[1,2,3],[3,2,1],[3,1,2],[2,1,3]],Array{Int64,1}[[4,2,3,1],[2,3,1,4],[2,4,1,3]])"
      ]
     },
     "execution_count": 5,
     "metadata": {},
     "output_type": "execute_result"
    }
   ],
   "source": [
    "m_prefs, f_prefs = mat2vecs.(random_prefs(m, n, allow_unmatched=false))"
   ]
  },
  {
   "cell_type": "code",
   "execution_count": 6,
   "metadata": {
    "collapsed": false
   },
   "outputs": [
    {
     "data": {
      "text/plain": [
       "(Array{Int64,1}[[2],[3,2,1],[2],[1]],Array{Int64,1}[[2,4,3],[4,1,2,3],[1]])"
      ]
     },
     "execution_count": 6,
     "metadata": {},
     "output_type": "execute_result"
    }
   ],
   "source": [
    "m_prefs, f_prefs = mat2vecs.(random_prefs(m, n))"
   ]
  },
  {
   "cell_type": "code",
   "execution_count": 7,
   "metadata": {
    "collapsed": false
   },
   "outputs": [
    {
     "data": {
      "text/plain": [
       "4-element Array{Array{Int64,1},1}:\n",
       " [2]    \n",
       " [3,2,1]\n",
       " [2]    \n",
       " [1]    "
      ]
     },
     "execution_count": 7,
     "metadata": {},
     "output_type": "execute_result"
    }
   ],
   "source": [
    "m_prefs"
   ]
  },
  {
   "cell_type": "code",
   "execution_count": 8,
   "metadata": {
    "collapsed": false
   },
   "outputs": [
    {
     "data": {
      "text/plain": [
       "3-element Array{Array{Int64,1},1}:\n",
       " [2,4,3]  \n",
       " [4,1,2,3]\n",
       " [1]      "
      ]
     },
     "execution_count": 8,
     "metadata": {},
     "output_type": "execute_result"
    }
   ],
   "source": [
    "f_prefs"
   ]
  },
  {
   "cell_type": "code",
   "execution_count": 9,
   "metadata": {
    "collapsed": false
   },
   "outputs": [
    {
     "data": {
      "text/plain": [
       "4×3 Array{Float64,2}:\n",
       " 0.0  0.0  0.0\n",
       " 0.0  0.0  0.0\n",
       " 0.0  0.0  0.0\n",
       " 0.0  0.0  0.0"
      ]
     },
     "execution_count": 9,
     "metadata": {},
     "output_type": "execute_result"
    }
   ],
   "source": [
    "S = zeros(m,n)　#受け入れ保留する組み合わせを0.0 -> 1.0とする　（unmatched がなければ rank(s)=n ??)"
   ]
  },
  {
   "cell_type": "code",
   "execution_count": 10,
   "metadata": {
    "collapsed": false
   },
   "outputs": [
    {
     "data": {
      "text/plain": [
       "4×3 Array{Float64,2}:\n",
       " 0.0  0.0  0.0\n",
       " 0.0  0.0  0.0\n",
       " 0.0  0.0  0.0\n",
       " 0.0  0.0  0.0"
      ]
     },
     "execution_count": 10,
     "metadata": {},
     "output_type": "execute_result"
    }
   ],
   "source": [
    "S"
   ]
  },
  {
   "cell_type": "code",
   "execution_count": 11,
   "metadata": {
    "collapsed": false
   },
   "outputs": [
    {
     "data": {
      "text/plain": [
       "0.0"
      ]
     },
     "execution_count": 11,
     "metadata": {},
     "output_type": "execute_result"
    }
   ],
   "source": [
    "S[2,2]"
   ]
  },
  {
   "cell_type": "code",
   "execution_count": 12,
   "metadata": {
    "collapsed": false
   },
   "outputs": [
    {
     "data": {
      "text/plain": [
       "true"
      ]
     },
     "execution_count": 12,
     "metadata": {},
     "output_type": "execute_result"
    }
   ],
   "source": [
    "S[:,1] == zeros(m)"
   ]
  },
  {
   "cell_type": "code",
   "execution_count": 13,
   "metadata": {
    "collapsed": false
   },
   "outputs": [
    {
     "data": {
      "text/plain": [
       "true"
      ]
     },
     "execution_count": 13,
     "metadata": {},
     "output_type": "execute_result"
    }
   ],
   "source": [
    "S[1,:] == zeros(n)"
   ]
  },
  {
   "cell_type": "code",
   "execution_count": 14,
   "metadata": {
    "collapsed": false
   },
   "outputs": [
    {
     "data": {
      "text/plain": [
       "4-element Array{Float64,1}:\n",
       " 0.0\n",
       " 0.0\n",
       " 0.0\n",
       " 0.0"
      ]
     },
     "execution_count": 14,
     "metadata": {},
     "output_type": "execute_result"
    }
   ],
   "source": [
    "zeros(m)"
   ]
  },
  {
   "cell_type": "code",
   "execution_count": 17,
   "metadata": {
    "collapsed": false
   },
   "outputs": [
    {
     "name": "stdout",
     "output_type": "stream",
     "text": [
      "search: \u001b[1mr\u001b[22m\u001b[1me\u001b[22m\u001b[1mp\u001b[22m\u001b[1ml\u001b[22m\u001b[1ma\u001b[22m\u001b[1mc\u001b[22m\u001b[1me\u001b[22m \u001b[1mr\u001b[22m\u001b[1me\u001b[22mdis\u001b[1mp\u001b[22m\u001b[1ml\u001b[22m\u001b[1ma\u001b[22my\n",
      "\n"
     ]
    },
    {
     "data": {
      "text/markdown": [
       "```\n",
       "replace(string, pat, r[, n])\n",
       "```\n",
       "\n",
       "Search for the given pattern `pat`, and replace each occurrence with `r`. If `n` is provided, replace at most `n` occurrences. As with search, the second argument may be a single character, a vector or a set of characters, a string, or a regular expression. If `r` is a function, each occurrence is replaced with `r(s)` where `s` is the matched substring. If `pat` is a regular expression and `r` is a `SubstitutionString`, then capture group references in `r` are replaced with the corresponding matched text.\n"
      ],
      "text/plain": [
       "```\n",
       "replace(string, pat, r[, n])\n",
       "```\n",
       "\n",
       "Search for the given pattern `pat`, and replace each occurrence with `r`. If `n` is provided, replace at most `n` occurrences. As with search, the second argument may be a single character, a vector or a set of characters, a string, or a regular expression. If `r` is a function, each occurrence is replaced with `r(s)` where `s` is the matched substring. If `pat` is a regular expression and `r` is a `SubstitutionString`, then capture group references in `r` are replaced with the corresponding matched text.\n"
      ]
     },
     "execution_count": 17,
     "metadata": {},
     "output_type": "execute_result"
    }
   ],
   "source": [
    "? replace "
   ]
  },
  {
   "cell_type": "code",
   "execution_count": 18,
   "metadata": {
    "collapsed": false
   },
   "outputs": [
    {
     "data": {
      "text/plain": [
       "3-element Array{Array{Int64,1},1}:\n",
       " [1,2,3]\n",
       " [2]    \n",
       " [3,1,2]"
      ]
     },
     "execution_count": 18,
     "metadata": {},
     "output_type": "execute_result"
    }
   ],
   "source": [
    "ff = [[1,2,3],[2],[3,1,2]]"
   ]
  },
  {
   "cell_type": "code",
   "execution_count": 19,
   "metadata": {
    "collapsed": false
   },
   "outputs": [
    {
     "data": {
      "text/plain": [
       "1"
      ]
     },
     "execution_count": 19,
     "metadata": {},
     "output_type": "execute_result"
    }
   ],
   "source": [
    "findfirst(ff)"
   ]
  },
  {
   "cell_type": "code",
   "execution_count": 20,
   "metadata": {
    "collapsed": false
   },
   "outputs": [
    {
     "data": {
      "text/plain": [
       "1"
      ]
     },
     "execution_count": 20,
     "metadata": {},
     "output_type": "execute_result"
    }
   ],
   "source": [
    "findfirst(ff[2])"
   ]
  },
  {
   "cell_type": "code",
   "execution_count": 21,
   "metadata": {
    "collapsed": false
   },
   "outputs": [
    {
     "data": {
      "text/plain": [
       "1"
      ]
     },
     "execution_count": 21,
     "metadata": {},
     "output_type": "execute_result"
    }
   ],
   "source": [
    "findfirst(ff[3])"
   ]
  },
  {
   "cell_type": "code",
   "execution_count": 28,
   "metadata": {
    "collapsed": false
   },
   "outputs": [
    {
     "name": "stderr",
     "output_type": "stream",
     "text": [
      "WARNING: Method definition "
     ]
    },
    {
     "data": {
      "text/plain": [
       "matching (generic function with 1 method)"
      ]
     },
     "execution_count": 28,
     "metadata": {},
     "output_type": "execute_result"
    },
    {
     "name": "stderr",
     "output_type": "stream",
     "text": [
      "matching(Any, Any) in module Main at In[25]:3 overwritten at In[28]:3.\n"
     ]
    }
   ],
   "source": [
    "function matching(m_prefs, f_prefs)\n",
    "    \n",
    "    S = zeros(m,n)  \n",
    "    B =[]\n",
    "    \n",
    "    for i in 1:m\n",
    "    \n",
    "    return replace(S[i,m_prefs[i][1]],1.0)\n",
    "        \n",
    "    end\n",
    "    \n",
    "end"
   ]
  },
  {
   "cell_type": "code",
   "execution_count": 27,
   "metadata": {
    "collapsed": false
   },
   "outputs": [
    {
     "ename": "LoadError",
     "evalue": "MethodError: no method matching replace(::Float64, ::Float64)\u001b[0m\nClosest candidates are:\n  replace(\u001b[1m\u001b[31m::String\u001b[0m, ::Any, \u001b[1m\u001b[31m::Any\u001b[0m, \u001b[1m\u001b[31m::Integer\u001b[0m) at strings/util.jl:181\n  replace(\u001b[1m\u001b[31m::AbstractString\u001b[0m, ::Any, \u001b[1m\u001b[31m::Any\u001b[0m) at strings/util.jl:211\n  replace(\u001b[1m\u001b[31m::AbstractString\u001b[0m, ::Any, \u001b[1m\u001b[31m::Any\u001b[0m, \u001b[1m\u001b[31m::Integer\u001b[0m) at strings/util.jl:210\u001b[0m",
     "output_type": "error",
     "traceback": [
      "MethodError: no method matching replace(::Float64, ::Float64)\u001b[0m\nClosest candidates are:\n  replace(\u001b[1m\u001b[31m::String\u001b[0m, ::Any, \u001b[1m\u001b[31m::Any\u001b[0m, \u001b[1m\u001b[31m::Integer\u001b[0m) at strings/util.jl:181\n  replace(\u001b[1m\u001b[31m::AbstractString\u001b[0m, ::Any, \u001b[1m\u001b[31m::Any\u001b[0m) at strings/util.jl:211\n  replace(\u001b[1m\u001b[31m::AbstractString\u001b[0m, ::Any, \u001b[1m\u001b[31m::Any\u001b[0m, \u001b[1m\u001b[31m::Integer\u001b[0m) at strings/util.jl:210\u001b[0m",
      "",
      " in matching(::Array{Array{Int64,1},1}, ::Array{Array{Int64,1},1}) at .\\In[25]:8"
     ]
    }
   ],
   "source": [
    "matching(m_prefs,f_prefs)"
   ]
  },
  {
   "cell_type": "code",
   "execution_count": 30,
   "metadata": {
    "collapsed": false
   },
   "outputs": [
    {
     "name": "stdout",
     "output_type": "stream",
     "text": [
      "search: \u001b[1mS\u001b[22m\u001b[1me\u001b[22m\u001b[1mt\u001b[22m \u001b[1ms\u001b[22m\u001b[1me\u001b[22m\u001b[1mt\u001b[22menv \u001b[1ms\u001b[22m\u001b[1me\u001b[22m\u001b[1mt\u001b[22mdiff \u001b[1ms\u001b[22m\u001b[1me\u001b[22m\u001b[1mt\u001b[22mdiff! \u001b[1ms\u001b[22m\u001b[1me\u001b[22m\u001b[1mt\u001b[22mfield! \u001b[1ms\u001b[22m\u001b[1me\u001b[22m\u001b[1mt\u001b[22mindex! \u001b[1ms\u001b[22m\u001b[1me\u001b[22m\u001b[1mt\u001b[22mrounding \u001b[1ms\u001b[22m\u001b[1me\u001b[22m\u001b[1mt\u001b[22mprecision\n",
      "\n"
     ]
    },
    {
     "data": {
      "text/markdown": [
       "```\n",
       "Set([itr])\n",
       "```\n",
       "\n",
       "Construct a [`Set`](:obj:`Set`) of the values generated by the given iterable object, or an empty set. Should be used instead of [`IntSet`](:obj:`IntSet`) for sparse integer sets, or for sets of arbitrary objects.\n"
      ],
      "text/plain": [
       "```\n",
       "Set([itr])\n",
       "```\n",
       "\n",
       "Construct a [`Set`](:obj:`Set`) of the values generated by the given iterable object, or an empty set. Should be used instead of [`IntSet`](:obj:`IntSet`) for sparse integer sets, or for sets of arbitrary objects.\n"
      ]
     },
     "execution_count": 30,
     "metadata": {},
     "output_type": "execute_result"
    }
   ],
   "source": [
    "? Set"
   ]
  },
  {
   "cell_type": "code",
   "execution_count": 1,
   "metadata": {
    "collapsed": false
   },
   "outputs": [
    {
     "data": {
      "text/plain": [
       "0-element Array{Float64,1}"
      ]
     },
     "execution_count": 1,
     "metadata": {},
     "output_type": "execute_result"
    }
   ],
   "source": [
    "zeros(0)"
   ]
  },
  {
   "cell_type": "code",
   "execution_count": 2,
   "metadata": {
    "collapsed": false
   },
   "outputs": [
    {
     "name": "stdout",
     "output_type": "stream",
     "text": [
      "search: \u001b[1mf\u001b[22m\u001b[1mi\u001b[22m\u001b[1mn\u001b[22m\u001b[1md\u001b[22m\u001b[1mf\u001b[22m\u001b[1mi\u001b[22m\u001b[1mr\u001b[22m\u001b[1ms\u001b[22m\u001b[1mt\u001b[22m\n",
      "\n"
     ]
    },
    {
     "data": {
      "text/markdown": [
       "```\n",
       "findfirst(A)\n",
       "```\n",
       "\n",
       "Return the linear index of the first non-zero value in `A` (determined by `A[i]!=0`). Returns `0` if no such value is found.\n",
       "\n",
       "```jldoctest\n",
       "julia> A = [0 0; 1 0]\n",
       "2×2 Array{Int64,2}:\n",
       " 0  0\n",
       " 1  0\n",
       "\n",
       "julia> findfirst(A)\n",
       "2\n",
       "```\n",
       "\n",
       "```\n",
       "findfirst(A, v)\n",
       "```\n",
       "\n",
       "Return the linear index of the first element equal to `v` in `A`. Returns `0` if `v` is not found.\n",
       "\n",
       "```jldoctest\n",
       "julia> A = [4 6; 2 2]\n",
       "2×2 Array{Int64,2}:\n",
       " 4  6\n",
       " 2  2\n",
       "\n",
       "julia> findfirst(A,2)\n",
       "2\n",
       "\n",
       "julia> findfirst(A,3)\n",
       "0\n",
       "```\n",
       "\n",
       "```\n",
       "findfirst(predicate::Function, A)\n",
       "```\n",
       "\n",
       "Return the linear index of the first element of `A` for which `predicate` returns `true`. Returns `0` if there is no such element.\n",
       "\n",
       "```jldoctest\n",
       "julia> A = [1 4; 2 2]\n",
       "2×2 Array{Int64,2}:\n",
       " 1  4\n",
       " 2  2\n",
       "\n",
       "julia> findfirst(iseven, A)\n",
       "2\n",
       "\n",
       "julia> findfirst(x -> x>10, A)\n",
       "0\n",
       "```\n"
      ],
      "text/plain": [
       "```\n",
       "findfirst(A)\n",
       "```\n",
       "\n",
       "Return the linear index of the first non-zero value in `A` (determined by `A[i]!=0`). Returns `0` if no such value is found.\n",
       "\n",
       "```jldoctest\n",
       "julia> A = [0 0; 1 0]\n",
       "2×2 Array{Int64,2}:\n",
       " 0  0\n",
       " 1  0\n",
       "\n",
       "julia> findfirst(A)\n",
       "2\n",
       "```\n",
       "\n",
       "```\n",
       "findfirst(A, v)\n",
       "```\n",
       "\n",
       "Return the linear index of the first element equal to `v` in `A`. Returns `0` if `v` is not found.\n",
       "\n",
       "```jldoctest\n",
       "julia> A = [4 6; 2 2]\n",
       "2×2 Array{Int64,2}:\n",
       " 4  6\n",
       " 2  2\n",
       "\n",
       "julia> findfirst(A,2)\n",
       "2\n",
       "\n",
       "julia> findfirst(A,3)\n",
       "0\n",
       "```\n",
       "\n",
       "```\n",
       "findfirst(predicate::Function, A)\n",
       "```\n",
       "\n",
       "Return the linear index of the first element of `A` for which `predicate` returns `true`. Returns `0` if there is no such element.\n",
       "\n",
       "```jldoctest\n",
       "julia> A = [1 4; 2 2]\n",
       "2×2 Array{Int64,2}:\n",
       " 1  4\n",
       " 2  2\n",
       "\n",
       "julia> findfirst(iseven, A)\n",
       "2\n",
       "\n",
       "julia> findfirst(x -> x>10, A)\n",
       "0\n",
       "```\n"
      ]
     },
     "execution_count": 2,
     "metadata": {},
     "output_type": "execute_result"
    }
   ],
   "source": [
    "?findfirst"
   ]
  },
  {
   "cell_type": "code",
   "execution_count": 7,
   "metadata": {
    "collapsed": false
   },
   "outputs": [
    {
     "data": {
      "text/plain": [
       "3×3 Array{Int64,2}:\n",
       " 1  0  0\n",
       " 0  1  0\n",
       " 1  0  0"
      ]
     },
     "execution_count": 7,
     "metadata": {},
     "output_type": "execute_result"
    }
   ],
   "source": [
    "z =[1 0 0 ;0 1 0; 1 0 0]"
   ]
  },
  {
   "cell_type": "code",
   "execution_count": 10,
   "metadata": {
    "collapsed": false
   },
   "outputs": [
    {
     "data": {
      "text/plain": [
       "1"
      ]
     },
     "execution_count": 10,
     "metadata": {},
     "output_type": "execute_result"
    }
   ],
   "source": [
    "sum(z[:,2])"
   ]
  },
  {
   "cell_type": "code",
   "execution_count": 13,
   "metadata": {
    "collapsed": false
   },
   "outputs": [
    {
     "data": {
      "text/plain": [
       "2"
      ]
     },
     "execution_count": 13,
     "metadata": {},
     "output_type": "execute_result"
    }
   ],
   "source": [
    "sum(z[:,1])"
   ]
  },
  {
   "cell_type": "code",
   "execution_count": 18,
   "metadata": {
    "collapsed": false
   },
   "outputs": [
    {
     "data": {
      "text/plain": [
       "3×3 Array{Float64,2}:\n",
       " 0.0  0.0  0.0\n",
       " 0.0  0.0  0.0\n",
       " 0.0  0.0  0.0"
      ]
     },
     "execution_count": 18,
     "metadata": {},
     "output_type": "execute_result"
    }
   ],
   "source": [
    "x = zeros(3,3)"
   ]
  },
  {
   "cell_type": "code",
   "execution_count": 22,
   "metadata": {
    "collapsed": false
   },
   "outputs": [
    {
     "data": {
      "text/plain": [
       "1.0"
      ]
     },
     "execution_count": 22,
     "metadata": {},
     "output_type": "execute_result"
    }
   ],
   "source": [
    "x[2,2] = 1.0\n",
    "x[3,1] = 1.0"
   ]
  },
  {
   "cell_type": "code",
   "execution_count": 23,
   "metadata": {
    "collapsed": false
   },
   "outputs": [
    {
     "data": {
      "text/plain": [
       "3×3 Array{Float64,2}:\n",
       " 0.0  0.0  0.0\n",
       " 0.0  1.0  0.0\n",
       " 1.0  0.0  0.0"
      ]
     },
     "execution_count": 23,
     "metadata": {},
     "output_type": "execute_result"
    }
   ],
   "source": [
    "x"
   ]
  },
  {
   "cell_type": "code",
   "execution_count": 24,
   "metadata": {
    "collapsed": false
   },
   "outputs": [
    {
     "data": {
      "text/plain": [
       "1.0"
      ]
     },
     "execution_count": 24,
     "metadata": {},
     "output_type": "execute_result"
    }
   ],
   "source": [
    "sum(x[:,1])"
   ]
  },
  {
   "cell_type": "code",
   "execution_count": 26,
   "metadata": {
    "collapsed": false
   },
   "outputs": [
    {
     "data": {
      "text/plain": [
       "5-element Array{Int64,1}:\n",
       " 1\n",
       " 2\n",
       " 3\n",
       " 4\n",
       " 5"
      ]
     },
     "execution_count": 26,
     "metadata": {},
     "output_type": "execute_result"
    }
   ],
   "source": [
    "a = [1,2,3,4,5]"
   ]
  },
  {
   "cell_type": "code",
   "execution_count": 28,
   "metadata": {
    "collapsed": false
   },
   "outputs": [
    {
     "data": {
      "text/plain": [
       "1"
      ]
     },
     "execution_count": 28,
     "metadata": {},
     "output_type": "execute_result"
    }
   ],
   "source": [
    "shift!(a)"
   ]
  },
  {
   "cell_type": "code",
   "execution_count": 29,
   "metadata": {
    "collapsed": false
   },
   "outputs": [
    {
     "data": {
      "text/plain": [
       "4-element Array{Int64,1}:\n",
       " 2\n",
       " 3\n",
       " 4\n",
       " 5"
      ]
     },
     "execution_count": 29,
     "metadata": {},
     "output_type": "execute_result"
    }
   ],
   "source": [
    "a"
   ]
  },
  {
   "cell_type": "code",
   "execution_count": 30,
   "metadata": {
    "collapsed": false
   },
   "outputs": [
    {
     "data": {
      "text/plain": [
       "3×3 Array{Float64,2}:\n",
       " 0.0  0.0  0.0\n",
       " 0.0  1.0  0.0\n",
       " 1.0  0.0  0.0"
      ]
     },
     "execution_count": 30,
     "metadata": {},
     "output_type": "execute_result"
    }
   ],
   "source": [
    "x"
   ]
  },
  {
   "cell_type": "code",
   "execution_count": 33,
   "metadata": {
    "collapsed": false
   },
   "outputs": [
    {
     "data": {
      "text/plain": [
       "3"
      ]
     },
     "execution_count": 33,
     "metadata": {},
     "output_type": "execute_result"
    }
   ],
   "source": [
    "size(x[:,1],1)"
   ]
  },
  {
   "cell_type": "code",
   "execution_count": 34,
   "metadata": {
    "collapsed": false
   },
   "outputs": [
    {
     "data": {
      "text/plain": [
       "3"
      ]
     },
     "execution_count": 34,
     "metadata": {},
     "output_type": "execute_result"
    }
   ],
   "source": [
    "size(x[3,:],1)"
   ]
  },
  {
   "cell_type": "code",
   "execution_count": 35,
   "metadata": {
    "collapsed": false,
    "scrolled": true
   },
   "outputs": [
    {
     "name": "stdout",
     "output_type": "stream",
     "text": [
      "search: \u001b[1ms\u001b[22m\u001b[1mi\u001b[22m\u001b[1mz\u001b[22m\u001b[1me\u001b[22m \u001b[1ms\u001b[22m\u001b[1mi\u001b[22m\u001b[1mz\u001b[22m\u001b[1me\u001b[22mof \u001b[1ms\u001b[22m\u001b[1mi\u001b[22m\u001b[1mz\u001b[22m\u001b[1me\u001b[22mhint! C\u001b[1ms\u001b[22m\u001b[1mi\u001b[22m\u001b[1mz\u001b[22m\u001b[1me\u001b[22m_t re\u001b[1ms\u001b[22m\u001b[1mi\u001b[22m\u001b[1mz\u001b[22m\u001b[1me\u001b[22m! file\u001b[1ms\u001b[22m\u001b[1mi\u001b[22m\u001b[1mz\u001b[22m\u001b[1me\u001b[22m C\u001b[1ms\u001b[22ms\u001b[1mi\u001b[22m\u001b[1mz\u001b[22m\u001b[1me\u001b[22m_t trailing\u001b[1ms\u001b[22m\u001b[1mi\u001b[22m\u001b[1mz\u001b[22m\u001b[1me\u001b[22m\n",
      "\n"
     ]
    },
    {
     "data": {
      "text/markdown": [
       "```\n",
       "size(A::AbstractArray, [dim...])\n",
       "```\n",
       "\n",
       "Returns a tuple containing the dimensions of `A`. Optionally you can specify the dimension(s) you want the length of, and get the length of that dimension, or a tuple of the lengths of dimensions you asked for.\n",
       "\n",
       "```jldoctest\n",
       "julia> A = ones(2,3,4);\n",
       "\n",
       "julia> size(A, 2)\n",
       "3\n",
       "\n",
       "julia> size(A,3,2)\n",
       "(4,3)\n",
       "```\n"
      ],
      "text/plain": [
       "```\n",
       "size(A::AbstractArray, [dim...])\n",
       "```\n",
       "\n",
       "Returns a tuple containing the dimensions of `A`. Optionally you can specify the dimension(s) you want the length of, and get the length of that dimension, or a tuple of the lengths of dimensions you asked for.\n",
       "\n",
       "```jldoctest\n",
       "julia> A = ones(2,3,4);\n",
       "\n",
       "julia> size(A, 2)\n",
       "3\n",
       "\n",
       "julia> size(A,3,2)\n",
       "(4,3)\n",
       "```\n"
      ]
     },
     "execution_count": 35,
     "metadata": {},
     "output_type": "execute_result"
    }
   ],
   "source": [
    "? size"
   ]
  },
  {
   "cell_type": "code",
   "execution_count": 37,
   "metadata": {
    "collapsed": false
   },
   "outputs": [
    {
     "data": {
      "text/plain": [
       "2×2 Array{Int64,2}:\n",
       " 1  2\n",
       " 3  4"
      ]
     },
     "execution_count": 37,
     "metadata": {},
     "output_type": "execute_result"
    }
   ],
   "source": [
    "A = [1 2; 3 4]"
   ]
  },
  {
   "cell_type": "code",
   "execution_count": 40,
   "metadata": {
    "collapsed": false
   },
   "outputs": [
    {
     "data": {
      "text/plain": [
       "0-element Array{Float64,1}"
      ]
     },
     "execution_count": 40,
     "metadata": {},
     "output_type": "execute_result"
    }
   ],
   "source": [
    "zeros(0)"
   ]
  },
  {
   "cell_type": "code",
   "execution_count": 46,
   "metadata": {
    "collapsed": false
   },
   "outputs": [
    {
     "data": {
      "text/plain": [
       "3"
      ]
     },
     "execution_count": 46,
     "metadata": {},
     "output_type": "execute_result"
    }
   ],
   "source": [
    "m = 4\n",
    "n = 3"
   ]
  },
  {
   "cell_type": "code",
   "execution_count": 47,
   "metadata": {
    "collapsed": false
   },
   "outputs": [
    {
     "data": {
      "text/plain": [
       "0-element Array{Float64,1}"
      ]
     },
     "execution_count": 47,
     "metadata": {},
     "output_type": "execute_result"
    }
   ],
   "source": [
    "M = [i for i in 1:m]\n",
    "    F = [j for j in 1:n]\n",
    "    matched_m = zeros(m) \n",
    "    matched_f = zeros(n)\n",
    "    accepted_m = zeros(0)\n",
    "    "
   ]
  },
  {
   "cell_type": "code",
   "execution_count": 52,
   "metadata": {
    "collapsed": false
   },
   "outputs": [],
   "source": [
    "for i in 1:m\n",
    "push!(accepted_m,i)\n",
    "end"
   ]
  },
  {
   "cell_type": "code",
   "execution_count": 53,
   "metadata": {
    "collapsed": false
   },
   "outputs": [
    {
     "data": {
      "text/plain": [
       "9-element Array{Float64,1}:\n",
       " 1.0\n",
       " 1.0\n",
       " 2.0\n",
       " 3.0\n",
       " 4.0\n",
       " 1.0\n",
       " 2.0\n",
       " 3.0\n",
       " 4.0"
      ]
     },
     "execution_count": 53,
     "metadata": {},
     "output_type": "execute_result"
    }
   ],
   "source": [
    "accepted_m"
   ]
  },
  {
   "cell_type": "code",
   "execution_count": 54,
   "metadata": {
    "collapsed": false
   },
   "outputs": [
    {
     "data": {
      "text/plain": [
       "21.0"
      ]
     },
     "execution_count": 54,
     "metadata": {},
     "output_type": "execute_result"
    }
   ],
   "source": [
    "sum(accepted_m)"
   ]
  },
  {
   "cell_type": "code",
   "execution_count": 55,
   "metadata": {
    "collapsed": false
   },
   "outputs": [
    {
     "data": {
      "text/plain": [
       "2-element Array{Float64,1}:\n",
       " 1.0\n",
       " 1.0"
      ]
     },
     "execution_count": 55,
     "metadata": {},
     "output_type": "execute_result"
    }
   ],
   "source": [
    "ones(2)"
   ]
  },
  {
   "cell_type": "code",
   "execution_count": 56,
   "metadata": {
    "collapsed": false
   },
   "outputs": [
    {
     "data": {
      "text/plain": [
       "4-element Array{Int64,1}:\n",
       " 0\n",
       " 0\n",
       " 0\n",
       " 0"
      ]
     },
     "execution_count": 56,
     "metadata": {},
     "output_type": "execute_result"
    }
   ],
   "source": [
    "t = [0i for i in 1:m]"
   ]
  },
  {
   "cell_type": "code",
   "execution_count": 60,
   "metadata": {
    "collapsed": false
   },
   "outputs": [
    {
     "data": {
      "text/plain": [
       "1-element Array{Int64,1}:\n",
       " 1"
      ]
     },
     "execution_count": 60,
     "metadata": {},
     "output_type": "execute_result"
    }
   ],
   "source": [
    "y = [1]"
   ]
  },
  {
   "cell_type": "code",
   "execution_count": 61,
   "metadata": {
    "collapsed": false
   },
   "outputs": [
    {
     "data": {
      "text/plain": [
       "1"
      ]
     },
     "execution_count": 61,
     "metadata": {},
     "output_type": "execute_result"
    }
   ],
   "source": [
    "pop!(y)"
   ]
  },
  {
   "cell_type": "code",
   "execution_count": 62,
   "metadata": {
    "collapsed": false
   },
   "outputs": [
    {
     "data": {
      "text/plain": [
       "0-element Array{Int64,1}"
      ]
     },
     "execution_count": 62,
     "metadata": {},
     "output_type": "execute_result"
    }
   ],
   "source": [
    "y"
   ]
  },
  {
   "cell_type": "code",
   "execution_count": 63,
   "metadata": {
    "collapsed": false
   },
   "outputs": [
    {
     "data": {
      "text/plain": [
       "7-element Array{Int64,1}:\n",
       " 1\n",
       " 6\n",
       " 3\n",
       " 4\n",
       " 2\n",
       " 3\n",
       " 0"
      ]
     },
     "execution_count": 63,
     "metadata": {},
     "output_type": "execute_result"
    }
   ],
   "source": [
    "y = [1,6,3,4,2,3,0]"
   ]
  },
  {
   "cell_type": "code",
   "execution_count": 71,
   "metadata": {
    "collapsed": false
   },
   "outputs": [
    {
     "data": {
      "text/plain": [
       "true"
      ]
     },
     "execution_count": 71,
     "metadata": {},
     "output_type": "execute_result"
    }
   ],
   "source": [
    "-findfirst(y,2)-findfirst(y,7)"
   ]
  },
  {
   "cell_type": "code",
   "execution_count": 74,
   "metadata": {
    "collapsed": false
   },
   "outputs": [
    {
     "data": {
      "text/plain": [
       "4-element Array{Int64,1}:\n",
       " 0\n",
       " 0\n",
       " 0\n",
       " 0"
      ]
     },
     "execution_count": 74,
     "metadata": {},
     "output_type": "execute_result"
    }
   ],
   "source": [
    "si = [0w for w in 1:m]"
   ]
  },
  {
   "cell_type": "code",
   "execution_count": 80,
   "metadata": {
    "collapsed": false
   },
   "outputs": [
    {
     "ename": "LoadError",
     "evalue": "syntax: invalid comprehension syntax",
     "output_type": "error",
     "traceback": [
      "syntax: invalid comprehension syntax",
      ""
     ]
    }
   ],
   "source": [
    "nu = [0r for r in 1:n]"
   ]
  },
  {
   "cell_type": "code",
   "execution_count": 81,
   "metadata": {
    "collapsed": false
   },
   "outputs": [
    {
     "data": {
      "text/plain": [
       "4×3 Array{Float64,2}:\n",
       " 0.0  0.0  0.0\n",
       " 0.0  0.0  0.0\n",
       " 0.0  0.0  0.0\n",
       " 0.0  0.0  0.0"
      ]
     },
     "execution_count": 81,
     "metadata": {},
     "output_type": "execute_result"
    }
   ],
   "source": []
  },
  {
   "cell_type": "code",
   "execution_count": 83,
   "metadata": {
    "collapsed": false
   },
   "outputs": [
    {
     "data": {
      "text/plain": [
       "4×3 Array{Int64,2}:\n",
       " 0  0  0\n",
       " 0  0  0\n",
       " 0  0  0\n",
       " 0  0  0"
      ]
     },
     "execution_count": 83,
     "metadata": {},
     "output_type": "execute_result"
    }
   ],
   "source": [
    "zeros(Int64,m,n)"
   ]
  },
  {
   "cell_type": "code",
   "execution_count": 84,
   "metadata": {
    "collapsed": false
   },
   "outputs": [
    {
     "data": {
      "text/plain": [
       "1-element Array{Int64,1}:\n",
       " 0"
      ]
     },
     "execution_count": 84,
     "metadata": {},
     "output_type": "execute_result"
    }
   ],
   "source": [
    "m =[0]"
   ]
  },
  {
   "cell_type": "code",
   "execution_count": 85,
   "metadata": {
    "collapsed": false
   },
   "outputs": [
    {
     "data": {
      "text/plain": [
       "2-element Array{Int64,1}:\n",
       " 0\n",
       " 1"
      ]
     },
     "execution_count": 85,
     "metadata": {},
     "output_type": "execute_result"
    }
   ],
   "source": [
    "push!(m,1)"
   ]
  },
  {
   "cell_type": "code",
   "execution_count": 86,
   "metadata": {
    "collapsed": false
   },
   "outputs": [
    {
     "data": {
      "text/plain": [
       "1"
      ]
     },
     "execution_count": 86,
     "metadata": {},
     "output_type": "execute_result"
    }
   ],
   "source": [
    "sum(m)"
   ]
  },
  {
   "cell_type": "code",
   "execution_count": 87,
   "metadata": {
    "collapsed": false
   },
   "outputs": [
    {
     "data": {
      "text/plain": [
       "matching2 (generic function with 1 method)"
      ]
     },
     "execution_count": 87,
     "metadata": {},
     "output_type": "execute_result"
    }
   ],
   "source": [
    "function matching2(m_prefs,f_prefs)\n",
    "\n",
    "    Z = zeros(m,n) \n",
    "    matched_m = [0i for i in 1:m] \n",
    "    matched_f = [0j for j in 1:n]\n",
    "    \n",
    "    \n",
    "    for i in 1:m        #男性m人について\n",
    "     \n",
    "        if m_prefs[i][1] == 0　　#男性iが独身を第一志望するとき\n",
    "            \n",
    "            matched_m[i] = 0                    \n",
    "        end\n",
    "            \n",
    "        if m_prefs[i][1] !== 0  #男性iが第一志望する女性がいるとき\n",
    "\n",
    "                    \n",
    "            if sum(Z[:,m_prefs[i][1]]) == 0　#男性iが第一志望する女性の列に誰もいないとき\n",
    "                \n",
    "                matched_m[i] = m_prefs[i][1]\n",
    "                matched_f[m_prefs[i][1]] = i\n",
    "                Z[i,m_prefs[i][1]] = 1.0   \n",
    "            end\n",
    "                \n",
    "            if sum(Z[:,m_prefs[i][1]]) == 1.0 #男性iが第一志望する女性の列に誰かいるとき\n",
    "                    \n",
    "                if findfirst(f_prefs[m_prefs[i][1]],i) < findfirst(f_prefs[m_prefs[i][1]],size(Z[:,m_prefs[i][1]],1.0))\n",
    "                #男性iが受け入れ保留されていた男性よりも女性に好まれているとき\n",
    "                        \n",
    "                    matched_m[i] = m_prefs[i][1]\n",
    "                    matched_f[m_prefs[i][1]] = i\n",
    "                    Z[i,m_prefs[i][1]] = 1.0\n",
    "                    Z[size(Z[:,m_prefs[i][1]],1.0),m_prefs[i][1]] = 0.0\n",
    "                    shift!(m_prefs[size(Z[:,m_prefs[i][1]],1.0)]) #受け入れ保留されていた男性の志望から第一志望を除く\n",
    "                    \n",
    "                end                    \n",
    "                \n",
    "                else #受け入れ保留されていた男性のほうが女性に好まれているとき\n",
    "                    \n",
    "                    shift!(m_prefs[i]) #男性iの志望から第一志望を除く\n",
    "                    \n",
    "                end\n",
    "                \n",
    "            end\n",
    "        \n",
    "    end\n",
    "\n",
    "    return matched_m, matched_f\n",
    "\n",
    "end"
   ]
  },
  {
   "cell_type": "code",
   "execution_count": null,
   "metadata": {
    "collapsed": true
   },
   "outputs": [],
   "source": [
    "function matching(m_prefs,f_prefs)\n",
    "    \n",
    "    M = [i for i in 1:m]\n",
    "    F = [j for j in 1:n]\n",
    "    matched_m = [0i for i in 1:m]   \n",
    "    matched_f = [0j for j in 1:n]\n",
    "    Z = [1]\n",
    "    accepted_m = pop!(Z)\n",
    "    Matrix = zeros(Int64,m,n)\n",
    "    \n",
    "    \n",
    "    while sum(accepted_m) !== m       #男性が全員安定した状況になるまで\n",
    "                \n",
    "                for g in 1:m\n",
    "                    \n",
    "                    if m_prefs[i][1] == 0       #男性gの第一志望が独身のとき\n",
    "                        \n",
    "                        push!(accepted_m,1)\n",
    "                        \n",
    "                    end\n",
    "                    \n",
    "                    if m_prefs[i][1] !== 0      #男性gに第一志望の女性がいるとき\n",
    "                        \n",
    "                        if findfirst(f_prefs[m_prefs[i][1]],i) == 0       #男性gが第一志望の女性の眼中にないとき\n",
    "                            \n",
    "                            shift!(m_prefs[i]) #男性iの志望から第一志望を除く\n",
    "                            \n",
    "                        end\n",
    "                        \n",
    "                        if findfirst(f_prefs[m_prefs[i][1]],i) !== 0      #男性gが第一志望の女性の選択肢に入っているとき\n",
    "                        \n",
    "                            if sum(Matrix[:,m_prefs[i][1]]) == 0      #第一志望の女性の列に誰もいないとき\n",
    "                            \n",
    "                                matched_m[i] = m_prefs[i][1]\n",
    "                                matched_f[m_prefs[i][1]] = i\n",
    "                                Matrix[i,m_prefs[i][1]] = i\n",
    "                                push!(accepted_m,1)                      \n",
    "                            \n",
    "                            end\n",
    "                        \n",
    "                            if sum(Matrix[:,m_prefs[i][1]]) !== 0     #第一志望の女性の列に誰かいるとき\n",
    "                             \n",
    "                                if findfirst(f_prefs[m_prefs[i][1]],i) < findfirst(f_prefs[m_prefs[i][1]],sum(Matrix[:,m_prefs[i][1]]))\n",
    "                                   #男性gが保留されていた男性よりも女性の好ましい選択であるとき\n",
    "                                    \n",
    "                                    matched_m[i] = m_prefs[i][1]\n",
    "                                    matched_f[m_prefs[i][1]] = i\n",
    "                                    Matrix[i,m_prefs[i][1]] = i\n",
    "                                    shift!(m_prefs[sum(Matrix[:,m_prefs[i][1]])]) 　　#保留されていた男性の志望から第一志望を除く\n",
    "                                    \n",
    "                                end\n",
    "                                \n",
    "                                if findfirst(f_prefs[m_prefs[i][1]],i) > findfirst(f_prefs[m_prefs[i][1]],sum(Matrix[:,m_prefs[i][1]]))\n",
    "                                    #保留されていた男性が男性gよりも女性の好ましい選択であるとき\n",
    "                                    \n",
    "                                    shift!(m_prefs[i]) #男性iの志望から第一志望を除く\n",
    "                                    \n",
    "                                end\n",
    "                                \n",
    "                            end\n",
    "                            \n",
    "                        end\n",
    "                        \n",
    "                    end\n",
    "                    \n",
    "                end\n",
    "                \n",
    "            end\n",
    "            \n",
    "            return matched_m, matched_f\n",
    "            \n",
    "        end"
   ]
  },
  {
   "cell_type": "code",
   "execution_count": null,
   "metadata": {
    "collapsed": true
   },
   "outputs": [],
   "source": [
    "function matching(m_prefs,f_prefs)\n",
    "    \n",
    "    M = [g for g in 1:m]\n",
    "    F = [j for j in 1:n]\n",
    "    matched_m = zeros(Int64,m) \n",
    "    matched_f = zeros(Int64,n)\n",
    "    accepted_m = [0]\n",
    "    Matrix = zeros(Int64,m,n)\n",
    "    \n",
    "    \n",
    "    while sum(accepted_m) !== m       #男性が全員安定した状況になるまで\n",
    "                \n",
    "                for i in 1:m\n",
    "                    \n",
    "                    if m_prefs[i][1] == 0       #男性gの第一志望が独身のとき\n",
    "                        \n",
    "                        push!(accepted_m,1)     #完了済みの男性群へ\n",
    "                        \n",
    "                    end \n",
    "                    \n",
    "                    if m_prefs[i][1] !== 0      #男性gに第一志望の女性がいるとき\n",
    "                        \n",
    "                        if findfirst(f_prefs[m_prefs[i][1]],i) == 0       #男性gが第一志望の女性の眼中にないとき\n",
    "                            \n",
    "                            shift!(m_prefs[i]) 　　#男性iの志望から第一志望を除く\n",
    "                            \n",
    "                        end\n",
    "                        \n",
    "                        if findfirst(f_prefs[m_prefs[i][1]],i) !== 0      #男性gが第一志望の女性の選択肢に入っているとき\n",
    "                        \n",
    "                            if sum(Matrix[:,m_prefs[i][1]]) == 0      #第一志望の女性の列に誰もいないとき\n",
    "                            \n",
    "                                matched_m[i] = m_prefs[i][1]\n",
    "                                matched_f[m_prefs[i][1]] = i\n",
    "                                Matrix[i,m_prefs[i][1]] = i\n",
    "                                push!(accepted_m,1) 　　　　　　　#完了済みの男性群へ                     \n",
    "                            \n",
    "                            end\n",
    "                        \n",
    "                            if sum(Matrix[:,m_prefs[i][1]]) !== 0     #第一志望の女性の列に誰かいるとき\n",
    "                             \n",
    "                                if findfirst(f_prefs[m_prefs[i][1]],i) < findfirst(f_prefs[m_prefs[i][1]],sum(Matrix[:,m_prefs[i][1]]))\n",
    "                                   #男性gが保留されていた男性よりも女性の好ましい選択であるとき\n",
    "                                    \n",
    "                                    matched_m[i] = m_prefs[i][1]\n",
    "                                    matched_f[m_prefs[i][1]] = i\n",
    "                                    Matrix[i,m_prefs[i][1]] = i\n",
    "                                    shift!(m_prefs[sum(Matrix[:,m_prefs[i][1]])]) 　　#保留されていた男性の志望から第一志望を除く\n",
    "                                    \n",
    "                                end\n",
    "                                \n",
    "                                if findfirst(f_prefs[m_prefs[i][1]],i) > findfirst(f_prefs[m_prefs[i][1]],sum(Matrix[:,m_prefs[i][1]]))\n",
    "                                    #保留されていた男性が男性gよりも女性の好ましい選択であるとき\n",
    "                                    \n",
    "                                    shift!(m_prefs[i]) #男性iの志望から第一志望を除く\n",
    "                                    \n",
    "                                end\n",
    "                                \n",
    "                            end\n",
    "                            \n",
    "                        end\n",
    "                        \n",
    "                    end\n",
    "                    \n",
    "                end\n",
    "                \n",
    "            end\n",
    "            \n",
    "            return matched_m, matched_f\n",
    "            \n",
    "        end"
   ]
  },
  {
   "cell_type": "code",
   "execution_count": null,
   "metadata": {
    "collapsed": true
   },
   "outputs": [],
   "source": [
    "Pkg.checkout(\"MyMatching\", \"master\")"
   ]
  }
 ],
 "metadata": {
  "kernelspec": {
   "display_name": "Julia 0.5.1",
   "language": "julia",
   "name": "julia-0.5"
  },
  "language_info": {
   "file_extension": ".jl",
   "mimetype": "application/julia",
   "name": "julia",
   "version": "0.5.1"
  }
 },
 "nbformat": 4,
 "nbformat_minor": 2
}
